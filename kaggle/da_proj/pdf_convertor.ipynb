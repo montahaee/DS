{
 "cells": [
  {
   "cell_type": "markdown",
   "metadata": {},
   "source": [
    "<span style='color:darkorange; font-weight:bold'>**PDF-Convertor Library**</span>"
   ]
  },
  {
   "cell_type": "code",
   "execution_count": 2,
   "metadata": {},
   "outputs": [],
   "source": [
    "import dataframe_image as dfi\n",
    "dfi.convert('../DS/heart_disease_Prediction.ipynb',\n",
    "                to='pdf',\n",
    "                use='latex',\n",
    "                center_df=True,\n",
    "                max_rows=30,\n",
    "                max_cols=10,\n",
    "                execute=False,\n",
    "                save_notebook=False,\n",
    "                limit=None,\n",
    "                document_name=None,\n",
    "                table_conversion='chrome',\n",
    "                chrome_path=None,\n",
    "                latex_command=None,\n",
    "                output_dir=None,\n",
    "                )"
   ]
  }
 ],
 "metadata": {
  "kernelspec": {
   "display_name": "venv",
   "language": "python",
   "name": "python3"
  },
  "language_info": {
   "codemirror_mode": {
    "name": "ipython",
    "version": 3
   },
   "file_extension": ".py",
   "mimetype": "text/x-python",
   "name": "python",
   "nbconvert_exporter": "python",
   "pygments_lexer": "ipython3",
   "version": "3.10.6"
  },
  "orig_nbformat": 4
 },
 "nbformat": 4,
 "nbformat_minor": 2
}
