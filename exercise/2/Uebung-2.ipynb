{
 "cells": [
  {
   "cell_type": "markdown",
   "metadata": {
    "pycharm": {
     "name": "#%% md\n"
    }
   },
   "source": [
    "# Übung 2.1\n",
    "\n",
    "**Gruppenname:**\n",
    "\n",
    "*Name Ihrer Gruppe*\n",
    "\n",
    "Gehen Sie wie folgt vor:\n",
    "\n",
    "1. Bitte benennen Sie jetzt dieses Jupyter Notebook um (z.B. über `File -> Rename`):\n",
    "\n",
    "   Namensschema: `Gruppenname-X`. Ersetzen Sie \"X\" mit der oben angegebenen Nummer der Übung.\n",
    "\n",
    "   - Beispiel 1: Team REZA bearbeitet Übung 2. Das Notebook heißt: REZA-2.\n",
    "   - Beispiel 2: Sie sind keinem Team zugeordnet (nicht empfehlenswert) und bearbeiten Übung 2: Ihr Notebook heißt: Nachname-2.\n",
    "\n",
    "\n",
    "2. Tragen Sie Ihren Gruppennamen auch ganz oben bei \"Name Ihrer Gruppe\" ein.\n",
    "\n",
    "3. Bearbeiten Sie dann dieses Notebook. Vergessen Sie dabei nicht, das Jupyter Notebook regelmäßig zu speichern (z.B. über `Strg + S` oder über `File -> Save and Checkpoint`)."
   ]
  },
  {
   "cell_type": "markdown",
   "metadata": {
    "pycharm": {
     "name": "#%% md\n"
    }
   },
   "source": [
    "In dieser Übung werden wir uns mit wichtigen Software-Werkzeugen für Data Science vertraut machen. In diesem Notebook finden Sie Übung 2.1, die sich mit Numpy beschäftigt. Übung 2.2 (Pandas) finden Sie bei ILIAs.\n",
    "\n",
    "Diese Übungen dienen dazu, Sie auf verschiedene Aspekte der in den kommenden Wochen in den Übungen genutzten Werkzeuge aufmerksam zu machen.\n",
    "\n",
    "* Wenn Sie in Ihrem bisherigen Studienverlauf noch nicht viel mit Python zu tun hatten, schauen Sie doch gerne einmal bei ILIAS unter \"Lernressourcen\" nach. Ich habe Ihnen dort Inhalte hinterlegt, die Sie nutzen können, um sich im Selbststudium mit Python vertrauter zu machen."
   ]
  },
  {
   "cell_type": "markdown",
   "metadata": {
    "pycharm": {
     "name": "#%% md\n"
    }
   },
   "source": [
    "## 2.1.1 Shapes und Co.\n",
    "\n",
    "Bei vielen Data Science Projekten werden Daten zunächst zugänglich gemacht, sodass sie als Numpy Arrays vorliegen. Das Verständnis von *Shapes* solcher Arrays ist eine wichtige Voraussetzung für eine produktive Arbeit mit diesen Datenstrukturen.\n",
    "\n",
    "Nehmen Sie die Folien zur heutigen Vorlesung zur Hand.\n",
    "\n",
    "**Ihre Aufgaben**\n",
    "\n",
    "(1) Betrachten Sie den untenstehenden Code. Beantworten Sie: Welchen [Shape](https://docs.scipy.org/doc/numpy/reference/generated/numpy.ndarray.shape.html) hat das Numpy Array `a`? "
   ]
  },
  {
   "cell_type": "markdown",
   "source": [
    "Antwort: (4,)"
   ],
   "metadata": {
    "collapsed": false,
    "pycharm": {
     "name": "#%% md\n"
    }
   }
  },
  {
   "cell_type": "code",
   "execution_count": 3,
   "metadata": {
    "pycharm": {
     "name": "#%%\n"
    }
   },
   "outputs": [
    {
     "name": "stdout",
     "output_type": "stream",
     "text": [
      "Ist vector 'a' nicht transponiert? True\n"
     ]
    }
   ],
   "source": [
    "import numpy as np\n",
    "a = np.array([5, 10, 15, 20])\n",
    "b = a.shape\n",
    "c = a.T\n",
    "print (\"Ist vector 'a' nicht transponiert?\", np.array_equal(a, c) )\n"
   ]
  },
  {
   "cell_type": "markdown",
   "metadata": {
    "pycharm": {
     "name": "#%% md\n"
    }
   },
   "source": [
    "(2) Lässt sich das Array `a` als (mathematischen) Vektor interpretieren? Wenn `a` ein Vektor ist, können Sie ihn [transponieren](https://docs.scipy.org/doc/numpy/reference/generated/numpy.ndarray.T.html)?\n",
    "Antwort:\n",
    "Nein, siehe c im Oben."
   ]
  },
  {
   "cell_type": "markdown",
   "metadata": {
    "pycharm": {
     "name": "#%% md\n"
    }
   },
   "source": [
    "(3) Betrachten Sie das unten stehende Array `b`. Erzeugen Sie aus `b` bitte zwei neue Arrays `c` und `d`: `c` soll ein Spaltenvektor sein, und `d` soll ein Zeilenvektor sein. Wie gehen Sie vor?"
   ]
  },
  {
   "cell_type": "code",
   "execution_count": 9,
   "metadata": {
    "pycharm": {
     "name": "#%%\n"
    }
   },
   "outputs": [
    {
     "name": "stdout",
     "output_type": "stream",
     "text": [
      "[ 2  4  6  8 10] [ 2  4  6  8 10] [ 2  4  6  8 10]\n"
     ]
    }
   ],
   "source": [
    "b = np.array([2, 4, 6, 8, 10])\n",
    "c = b.T\n",
    "d = b\n",
    "print(b, c, d)"
   ]
  },
  {
   "cell_type": "markdown",
   "metadata": {
    "pycharm": {
     "name": "#%% md\n"
    }
   },
   "source": [
    "Lässt sich `c` bzw. `d` transponieren? Warum?\n",
    "Antwort: nein, Numpy's transpose() (alias T) stellt(eng. reverse) das shape von array andersrum(. Dies bedeutet für ein 1 dimensionale array wie 'b' keine effect."
   ]
  },
  {
   "cell_type": "markdown",
   "metadata": {
    "pycharm": {
     "name": "#%% md\n"
    }
   },
   "source": [
    "(4) Betrachten Sie die dritte Zeile des unten stehenden Codes: Hat sich durch die Zeile `k[0, 1] = 10` das Array `m` geändert? Falls ja, warum? Falls nein, warum hat es sich nicht geändert?\n",
    "Antwort:\n",
    "Ja, np.array() ist zwar ein dynamisches Feld und k wird sich wie ein Zeiger bei der c++ Sprache verhält. Daher ist 'm' eine Kopie von Zeiger der gewählten Elementen von matrix 'm'. In diesem Fall wurde an der Stelle erste Zeile zweite spalte von Matrix 10 geschrieben."
   ]
  },
  {
   "cell_type": "code",
   "execution_count": 27,
   "metadata": {
    "pycharm": {
     "name": "#%%\n"
    }
   },
   "outputs": [
    {
     "name": "stdout",
     "output_type": "stream",
     "text": [
      "[[ 1 10  3  4]\n",
      " [ 5  6  7  8]\n",
      " [ 9 10 11 12]] \n",
      " [[10  3]\n",
      " [ 6  7]]\n"
     ]
    }
   ],
   "source": [
    "k = np.array([[1,2,3,4], [5,6,7,8], [9,10,11,12]])\n",
    "m = k[:2, 1:3]\n",
    "k[0, 1] = 10\n",
    "print ( k, '\\n', m)"
   ]
  },
  {
   "cell_type": "markdown",
   "metadata": {
    "pycharm": {
     "name": "#%% md\n"
    }
   },
   "source": [
    "(5) Betrachten Sie die dritte Zeile des unten stehenden Codes: Hat sich durch die Änderung des Arrays `p` der Inhalt von `q` geändert? Falls ja, warum? Falls nein, warum hat es sich nicht geändert?\n",
    "Antwort:\n",
    "Nein, weil hier(im zweiten Zeile) explizit die Kopie von zweiten und dritte Element aus erste Spalte von Matrix 'p' gemacht wurde before das Vector P geändert wird."
   ]
  },
  {
   "cell_type": "code",
   "execution_count": 4,
   "metadata": {
    "pycharm": {
     "name": "#%%\n"
    }
   },
   "outputs": [
    {
     "name": "stdout",
     "output_type": "stream",
     "text": [
      "[25  9] \n",
      " [[ 1  2  3  4]\n",
      " [25  6  7  8]\n",
      " [ 9 10 11 12]]\n"
     ]
    }
   ],
   "source": [
    "p = np.array([[1,2,3,4], [5,6,7,8], [9,10,11,12]])\n",
    "q = p[[1, 2], 0]\n",
    "p[1, 0] = 25\n",
    "# q = p[[1, 2], 0]\n",
    "\n",
    "print(q, '\\n', p)"
   ]
  },
  {
   "cell_type": "markdown",
   "metadata": {
    "pycharm": {
     "name": "#%% md\n"
    }
   },
   "source": [
    "## 2.1.2 Broadcasting - Teil 1\n",
    "\n",
    "Nehmen Sie sich die Folien zur heutigen Vorlesung zur Hand. Unten sehen Sie eine Operation mit zwei Numpy Arrays `a` und `b`."
   ]
  },
  {
   "cell_type": "markdown",
   "metadata": {
    "pycharm": {
     "name": "#%% md\n"
    }
   },
   "source": [
    "**Ihre Aufgaben**\n",
    "\n",
    "(1) Betrachten Sie die unten stehende Code-Zelle. Welchen Shape (Anzahl Zeilen, Anzahl Spalten) wird das Numpy Array `c` erhalten? \n",
    "\n",
    "  * Tragen Sie ihre Voraussage in die Variable `shape` ein. \n",
    "  * Begründen Sie Ihre Vorhersage mit den drei Broadcasting Regeln aus der Vorlesung.\n",
    "  * Berechnen Sie auf Papier das zu erwartende Ergebnis. Tragen Sie es als Numpy Array in die Variable `ergebnis` ein.\n",
    "  * Führen Sie dann jeweils die Zelle aus, um zu schauen, ob Sie richtig lagen.\n",
    "Antwort:\n",
    "die beiden arrays sind gleich dimension und gleich größ und daher wird auf jedem component des linken arrays aus Komponenten der rechten hingefügt."
   ]
  },
  {
   "cell_type": "code",
   "execution_count": 31,
   "metadata": {
    "pycharm": {
     "name": "#%%\n"
    }
   },
   "outputs": [
    {
     "name": "stdout",
     "output_type": "stream",
     "text": [
      "Shape korrekt.\n",
      "\n",
      "Ergebnis korrekt.\n",
      "\n"
     ]
    }
   ],
   "source": [
    "import numpy as np\n",
    "\n",
    "a = np.array([1, 2, 3])\n",
    "b = np.array([4, 5, 6])\n",
    "\n",
    "c = a + b\n",
    "\n",
    "# Ihre Vorhersagen\n",
    "shape = (3,)\n",
    "ergebnis = np.array([5, 7, 9])\n",
    "print('{}\\n'.format('Shape korrekt.' if np.all(shape==c.shape) else 'Shape nicht korrekt.'))\n",
    "print('{}\\n'.format('Ergebnis korrekt.' if np.array_equal(ergebnis, c) else 'Ergebnis nicht korrekt.'))"
   ]
  },
  {
   "cell_type": "markdown",
   "metadata": {
    "pycharm": {
     "name": "#%% md\n"
    }
   },
   "source": [
    "(2) Betrachten Sie die unten stehende Code-Zelle. Welchen Shape (Anzahl Zeilen, Anzahl Spalten) wird das Numpy Array `c` erhalten? \n",
    "\n",
    "  * Tragen Sie ihre Voraussage in die Variable `shape` ein. \n",
    "  * Begründen Sie Ihre Vorhersage mit den drei Broadcasting Regeln aus der Vorlesung.\n",
    "  * Berechnen Sie auf Papier das zu erwartende Ergebnis. Tragen Sie es als Numpy Array in die Variable `ergebnis` ein.\n",
    "  * Führen Sie dann jeweils die Zelle aus, um zu schauen, ob Sie richtig lagen.\n",
    "Antwort:\n",
    "  The new-axis funktioniert wie eine reshape zur Konvertierung array[4,5,6] in einer spalte und damit wegen\n",
    "  der unterschiedlichen Dimensionen der Operanden füllen sich die beiden Seite der Add operation mit zusätzliche dimension zur Anpassung auf. D.h. 'a' und 'b' bekommen ein shape (3,3) und somit das Ergebnis auch."
   ]
  },
  {
   "cell_type": "code",
   "execution_count": 39,
   "metadata": {
    "pycharm": {
     "name": "#%%\n"
    }
   },
   "outputs": [
    {
     "name": "stdout",
     "output_type": "stream",
     "text": [
      "[[4]\n",
      " [5]\n",
      " [6]] \n",
      " (3, 1)\n",
      "[1 2 3] \n",
      " (3,)\n",
      "Shape Korrekt.\n",
      "\n",
      "Ergebnis korrekt.\n",
      "\n"
     ]
    }
   ],
   "source": [
    "a = np.array([1, 2, 3])\n",
    "# a = np.array([[1], [2], [3]])\n",
    "b = np.array([4, 5, 6])[:, np.newaxis]\n",
    "bt = np.array([[4, 5, 6],[1,2,3]])[:, np.newaxis]\n",
    "# print(bt[:].shape)\n",
    "print(b, '\\n', b.shape)\n",
    "print(a, '\\n',a.shape)\n",
    "c = a + b\n",
    "shape = (3, 3) # Ihre Vorhersage\n",
    "ergebnis = np.array([[5,6,7],[6,7,8],[7,8,9]])\n",
    "print('{}\\n'.format('Shape Korrekt.' if np.all(shape==c.shape) else 'Shape nicht korrekt.'))\n",
    "print('{}\\n'.format('Ergebnis korrekt.' if np.array_equal(ergebnis, c) else 'Ergebnis nicht korrekt.'))"
   ]
  },
  {
   "cell_type": "markdown",
   "metadata": {
    "pycharm": {
     "name": "#%% md\n"
    }
   },
   "source": [
    "(3) Betrachten Sie die unten stehende Code-Zelle. Welchen Shape (Anzahl Zeilen, Anzahl Spalten) wird das Numpy Array `c` erhalten?\n",
    "\n",
    "  * Tragen Sie ihre Voraussage in die Variable `shape` ein.\n",
    "  * Begründen Sie Ihre Vorhersage mit den drei Broadcasting Regeln aus der Vorlesung.\n",
    "  * Berechnen Sie auf Papier das zu erwartende Ergebnis. Tragen Sie es als Numpy Array in die Variable `ergebnis` ein.\n",
    "  * Führen Sie dann jeweils die Zelle aus, um zu schauen, ob Sie richtig lagen."
   ]
  },
  {
   "cell_type": "markdown",
   "source": [
    "Antwort: The array 'a' ist ein zwei dimensional array mit zwei zeile und drei spalte d.h. sein shape sollte (2,3) andererseits ist array 'b' laut der reshape ein array mit 4 Zeile und jeweils jeder zeile mit ein array mit ein zeile und 3 Spalte also (4,1,3). Nun laut der Broadcastingregeln(die zweite Regel) wird für jede inner\n",
    " Zeile zusätzliche Zeile zur Anpassung vom shape des array 'a' auf. d.h. es wird 4 Zeile mit jeweils mit zwei zeile und drei spalte, vor dahin hat array 'a' nach der Regeln (die erste Regel) 3 zusätzliche Zeile bekommen und nun ist die Add Operation machtbar. Ansonsten die Operation '*' funktioniert wie multiply im Numpy als Outer product (kein Matrixprodukt) und das Ergebnis sollte eine array mit 4 Mal zeile jeweils mit dem Resultat von Outer Product von [[1, 0, 0], [0, 0, 2]] * [[1.0, 1.0, 1.0], [1.0, 1.0, 1.0]]."
   ],
   "metadata": {
    "collapsed": false,
    "pycharm": {
     "name": "#%% md\n"
    }
   }
  },
  {
   "cell_type": "code",
   "execution_count": 55,
   "outputs": [
    {
     "name": "stdout",
     "output_type": "stream",
     "text": [
      "Shape korrekt.\n",
      "\n",
      "Ergebnis korrekt.\n",
      "\n"
     ]
    }
   ],
   "source": [
    "a = np.array([[1, 0, 0], [0, 0, 2]])\n",
    "b = np.ones(12).reshape((4, 1, 3))\n",
    "\n",
    "# print(np.ones(( 3,3,10)))\n",
    "# print(np.arange(3).reshape((1,3)))\n",
    "# print(np.arange(1,6, 2,float))\n",
    "# d = np.array([[1,2],[3,4]])\n",
    "# e = np.array([[2,3],[4,1]])\n",
    "# print(np.dot(d,e))\n",
    "# print(np.multiply(d,e))\n",
    "# print(d*e)\n",
    "c = a * b\n",
    "shape = (4, 2, 3) # Ihre Vorhersage\n",
    "ergebnis = np.array([[[1, 0, 0], [0, 0, 2]],[[1, 0, 0], [0, 0, 2]], [[1, 0, 0], [0, 0, 2]],\n",
    "                     [[1, 0, 0], [0, 0, 2]]]) # Ich vermute, dass sie hierüber länger nachdenken werden.\n",
    "\n",
    "print('{}\\n'.format('Shape korrekt.' if np.all(shape==c.shape) else 'Shape nicht korrekt.'))\n",
    "print('{}\\n'.format('Ergebnis korrekt.' if np.array_equal(ergebnis, c) else 'Ergebnis nicht korrekt.'))"
   ],
   "metadata": {
    "collapsed": false,
    "pycharm": {
     "name": "#%%\n"
    }
   }
  },
  {
   "cell_type": "markdown",
   "metadata": {
    "pycharm": {
     "name": "#%% md\n"
    }
   },
   "source": [
    "## 2.1.3 Broadcasting Teil 2\n",
    "\n",
    "Ein häufiger Vorverarbeitungsschritt, der Ihnen in verschiedenen Data Science Projekten begegnen wird, ist die Normierung von Daten. Häufig werden dabei Datensätze, z.B. Zeitreihen, auf Mittelwert $0$ und Standardabweichung $1$ normiert. Dieser Vorgang wird auch *z-scoring* (oder: *Standardisierung*) genannt:\n",
    "\n",
    "Sei $x_i$ der $i$-te Datenpunkt einer Zeitreihe. Dann ist der z-score dieses Datenpunkts definiert als\n",
    "\n",
    "$$\\tilde{x}_i = \\frac{x_i - \\bar{x}}{\\sigma},$$ \n",
    "\n",
    "wobei $\\bar{x}$ der Mittelwert sowie $\\sigma$ die Standardabweichung der Zeitreihe bezeichnen.\n",
    "\n",
    "Das in der unten stehenden Code-Zelle definierte Numpy Array `X` enthält 5 Zeitreihen (Spalten) mit je 30 Einträgen (Zeilen). \n",
    "\n",
    "* Nutzen Sie Broadcasting sowie [np.mean](https://docs.scipy.org/doc/numpy/reference/generated/numpy.mean.html) und [np.std](https://docs.scipy.org/doc/numpy/reference/generated/numpy.std.html), um die Zeitreihen auf Mittelwert 0 und Varianz 1 zu normieren. Die transformierten Zeitreihen sollen im Numpy Array `Y` gespeichert werden. Dabei schreiben Sie nur eine Zeile Code, um die Zeitreihen zu transformieren.\n",
    "* Beachten Sie das `axis` Argument bei `np.mean` und `np.std`."
   ]
  },
  {
   "cell_type": "code",
   "execution_count": 70,
   "metadata": {
    "pycharm": {
     "name": "#%%\n"
    }
   },
   "outputs": [
    {
     "name": "stdout",
     "output_type": "stream",
     "text": [
      "[[ 0.15341087  0.84291147  0.29601283  0.12932338 -0.29233953]\n",
      " [ 0.53992117 -0.29903316  1.22105967  1.69448328 -0.4280483 ]\n",
      " [ 1.12052274  0.07657036  0.18488666  1.55221377 -1.48233088]\n",
      " [-1.68470802 -2.01592214  1.03172535  1.00116732  1.21399386]\n",
      " [ 1.86460735  1.18832729 -0.15620163  1.01003409 -1.32291437]\n",
      " [ 0.5161403  -1.50939427  1.39036614  0.04323217 -0.32268796]\n",
      " [-0.97831466  1.08579629 -0.17325851  0.21734275 -1.65864764]\n",
      " [ 0.42741419  0.41882531  0.34136941  1.62005353  0.57889809]\n",
      " [-0.60027791 -0.30131727  0.59966077 -1.68205151  0.52809638]\n",
      " [ 0.63843432 -1.23366255 -1.22062003 -0.72824828 -0.49463415]\n",
      " [ 0.23854479 -0.29486073  1.53025456 -1.5257546  -1.0171564 ]\n",
      " [-1.38937181  0.58753481 -0.82255809 -0.1643356  -0.89718885]\n",
      " [-1.39868787 -1.64505322  0.46746475 -1.39069079 -1.0586466 ]\n",
      " [-0.56358088  1.2781464  -1.32248389  1.22462144 -1.39775233]\n",
      " [ 1.85601214 -0.17124829  1.49308508  0.3534285   0.77275337]\n",
      " [-1.87557915 -0.93573742 -1.24856172 -0.80033643 -1.32138463]\n",
      " [-0.76560168 -0.3949797  -1.42796062  0.68092689  0.19006615]\n",
      " [-0.97499471  0.0533414  -1.33260071  0.24542038  1.41406123]\n",
      " [-0.76326953  0.64636776 -1.21142888  0.77008363 -0.74539202]\n",
      " [-1.30225289  0.31358791 -1.56892138  1.19096633 -1.70621211]\n",
      " [ 0.66701499 -0.98838737  0.71988989  1.6889735  -0.88258455]\n",
      " [ 0.26227578  0.336332    0.19835331 -1.0733878   1.49320804]\n",
      " [-0.25144349  1.38269541  0.605576   -0.79548991  1.02428595]\n",
      " [-0.45297716  1.52541485  0.22722715  1.38828526  0.61504575]\n",
      " [ 0.85588047 -0.03684384  1.42690177  0.49972905 -0.29166374]\n",
      " [ 0.38265491 -2.0201394  -0.66801571  0.56021316 -0.74312584]\n",
      " [ 0.42892682 -0.335309   -1.19966229 -0.79233037  0.20141689]\n",
      " [ 0.32086281  0.26345263  0.45745035  0.53005109 -0.26613939]\n",
      " [ 1.53785234 -0.58708951 -0.23818698  1.42636218  0.99862511]\n",
      " [ 0.77081651 -1.68679909  1.30975114  0.76228771  1.6487761 ]]\n"
     ]
    }
   ],
   "source": [
    "import numpy as np\n",
    "np.random.seed(0) # seed for reproducibility\n",
    "X = np.random.random((30, 5)) # Create a 30x5 array of uniformly distributed random values between 0 and 1\n",
    "# Y = []\n",
    "# Y.append([(x - np.mean(X)) / np.std(X) for x in X])\n",
    "# Y = [(x - np.mean(X)) / np.std(X) for x in X]\n",
    "Y = np.array([((x - np.mean(X)) / np.std(X,axis= 0)) for x in X])\n",
    "# print(Y)"
   ]
  },
  {
   "cell_type": "markdown",
   "metadata": {
    "pycharm": {
     "name": "#%% md\n"
    }
   },
   "source": [
    "(2) Betrachten Sie den unten stehenden Code-Zellen.\n",
    "* Tragen Sie in der Variable `vorhersage` ein, welches Array Sie in Variable `y` erwarten.\n",
    "* Prüfen Sie durch Ausführen des Codes, ob Ihre Vorhersage richtig war.\n",
    "* Beantworten Sie die Frage: Wodurch wird der Shape des Arrays `y` bestimmt?"
   ]
  },
  {
   "cell_type": "markdown",
   "source": [
    "Antwort: Siehe meine Kommentare unten im zugehörigen Zell. Die Indices sind dabei mit 1 und nicht mit 0 angefangen."
   ],
   "metadata": {
    "collapsed": false,
    "pycharm": {
     "name": "#%% md\n"
    }
   }
  },
  {
   "cell_type": "code",
   "execution_count": 15,
   "metadata": {
    "pycharm": {
     "name": "#%%\n"
    }
   },
   "outputs": [
    {
     "name": "stdout",
     "output_type": "stream",
     "text": [
      "0: \n",
      " 6\n",
      "1: \n",
      " [[ 9 10 11]\n",
      " [ 9 10 11]]\n",
      "2: \n",
      " [ 2 11]\n",
      "3: \n",
      " [ 2 10]\n",
      "4: \n",
      " [[ 1 10]\n",
      " [ 7  4]]\n",
      "5: \n",
      " [[ 2 10]\n",
      " [ 8  4]]\n",
      "6: \n",
      " [[ 2 10]\n",
      " [ 7  4]]\n",
      "Ergebnis korrekt.\n",
      "\n"
     ]
    },
    {
     "name": "stderr",
     "output_type": "stream",
     "text": [
      "C:\\Users\\Montahaee\\AppData\\Local\\Temp\\ipykernel_6408\\1914293733.py:10: FutureWarning: Using a non-tuple sequence for multidimensional indexing is deprecated; use `arr[tuple(seq)]` instead of `arr[seq]`. In the future this will be interpreted as an array index, `arr[np.array(seq)]`, which will result either in an error or a different result.\n",
      "  print(\"2: \\n\",x[[[0,3],2]])                   # third(2+1) element from 1st(0+1) and 4th(3+1) rows\n",
      "C:\\Users\\Montahaee\\AppData\\Local\\Temp\\ipykernel_6408\\1914293733.py:12: FutureWarning: Using a non-tuple sequence for multidimensional indexing is deprecated; use `arr[tuple(seq)]` instead of `arr[seq]`. In the future this will be interpreted as an array index, `arr[np.array(seq)]`, which will result either in an error or a different result.\n",
      "  print(\"3: \\n\",x[[[0,3],[2,1]]])               # in 1st and 4th rows, third(2+1) respectively 2nd(1+1) elements                                                 i.e. [x13,x42]\n"
     ]
    }
   ],
   "source": [
    "x = np.array([[0,  1,  2], [3,  4,  5], [6,  7,  8], [9, 10, 11]]) \n",
    "\n",
    "rows = np.array([[0,0],[3,3]])\n",
    "cols = np.array([[0,2],[0,2]])\n",
    "\n",
    "print(\"0: \\n\",x[2,0])                         # first(0+1) elem from third(2+1) row\n",
    "\n",
    "print(\"1: \\n\",x[[3,3]])                       # the same as x[[[3,3],]] , see the followings to understand\n",
    "\n",
    "print(\"2: \\n\",x[[[0,3],2]])                   # third(2+1) element from 1st(0+1) and 4th(3+1) rows\n",
    "\n",
    "print(\"3: \\n\",x[[[0,3],[2,1]]])               # in 1st and 4th rows, third(2+1) respectively 2nd(1+1) elements                                                 i.e. [x13,x42]\n",
    "print(\"4: \\n\",x[[[0,3],[2,1]],[1]])           # the same as x[[[0,3],[2,1]],[1,1]] --> [[x12,x42], [x32, x22]]                                                 2nd(1+1) elem from 1st(0+1) and 4th(3+1) row. Analogue for[2,1]\n",
    "\n",
    "print(\"5: \\n\",x[[[0,3],[2,1]],[2,1]])         # x[[[0,3],[2,1]],[2,1]] --> [[x13,x42], [x33, x22]]\n",
    "\n",
    "print(\"6: \\n\",x[[[0,3],[2,1]],[[2,1],[1,1]]]) # x[[[0,3],[2,1]],[[2,1],[1,1]]] --->[[x13,x42], [x33, x22]]\n",
    "                                              # On balance, I would say:\n",
    "                                              # y = x[rows,cols] ---> [[x11,x13], [x41, x43]]\n",
    "y = x[rows,cols]\n",
    "vorhersage = np.array([[0,2],[9,11]]) # Ihre Vorhersage\n",
    "\n",
    "print('{}\\n'.format('Ergebnis korrekt.' if np.array_equal(vorhersage, y) else 'Ergebnis nicht korrekt.'))"
   ]
  },
  {
   "cell_type": "markdown",
   "metadata": {
    "pycharm": {
     "name": "#%% md\n"
    }
   },
   "source": [
    "(3) Betrachten Sie den unten stehenden Code-Zellen.\n",
    "* Tragen Sie in der Variable `vorhersage` ein, welches Array Sie in Variable `y` erwarten.\n",
    "* Prüfen Sie durch Ausführen des Codes, ob Ihre Vorhersage richtig war.\n",
    "* Beantworten Sie die Frage: Wodurch wird der Shape des Arrays `y` bestimmt?"
   ]
  },
  {
   "cell_type": "markdown",
   "source": [
    "Antwort: Wie ich in der letzten Aufgabe klar beschrieben die index array[1, 2] führt dazu, dass all Komponenten zweite(1 +1) und dritte(2 + 1) Spalte vom sliced Matrix, nämlich x[1:], gewählt werden."
   ],
   "metadata": {
    "collapsed": false,
    "pycharm": {
     "name": "#%% md\n"
    }
   }
  },
  {
   "cell_type": "code",
   "execution_count": 14,
   "metadata": {
    "pycharm": {
     "name": "#%%\n"
    }
   },
   "outputs": [
    {
     "name": "stdout",
     "output_type": "stream",
     "text": [
      "Ergebnis korrekt.\n",
      "\n"
     ]
    }
   ],
   "source": [
    "x = np.array([[0, 1, 2],[3, 4, 5],[6, 7, 8],[9, 10, 11]]) \n",
    "y = x[1:4,[1,2]] # Kombination von Slicing und Advanced Indexing\n",
    "vorhersage = np.array([[4, 5], [7, 8], [10 , 11]]) # Ihre Vorhersage\n",
    "\n",
    "print('{}\\n'.format('Ergebnis korrekt.' if np.array_equal(vorhersage, y) else 'Ergebnis nicht korrekt.'))"
   ]
  }
 ],
 "metadata": {
  "kernelspec": {
   "display_name": "Python 3 (ipykernel)",
   "language": "python",
   "name": "python3"
  },
  "language_info": {
   "codemirror_mode": {
    "name": "ipython",
    "version": 3
   },
   "file_extension": ".py",
   "mimetype": "text/x-python",
   "name": "python",
   "nbconvert_exporter": "python",
   "pygments_lexer": "ipython3",
   "version": "3.8.8"
  },
  "learntools_metadata": {
   "lesson_index": 0,
   "type": "exercise"
  }
 },
 "nbformat": 4,
 "nbformat_minor": 1
}