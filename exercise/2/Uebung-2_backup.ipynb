{
 "cells": [
  {
   "cell_type": "markdown",
   "source": [
    "# Übung 2.1\n",
    "\n",
    "**Gruppenname:**\n",
    "\n",
    "*Name Ihrer Gruppe*\n",
    "\n",
    "Gehen Sie wie folgt vor:\n",
    "\n",
    "1. Bitte benennen Sie jetzt dieses Jupyter Notebook um (z.B. über `File -> Rename`):\n",
    "\n",
    "   Namensschema: `Gruppenname-X`. Ersetzen Sie \"X\" mit der oben angegebenen Nummer der Übung.\n",
    "\n",
    "   - Beispiel 1: Team REZA bearbeitet Übung 2. Das Notebook heißt: REZA-2.\n",
    "   - Beispiel 2: Sie sind keinem Team zugeordnet (nicht empfehlenswert) und bearbeiten Übung 2: Ihr Notebook heißt: Nachname-2.\n",
    "\n",
    "\n",
    "2. Tragen Sie Ihren Gruppennamen auch ganz oben bei \"Name Ihrer Gruppe\" ein.\n",
    "\n",
    "3. Bearbeiten Sie dann dieses Notebook. Vergessen Sie dabei nicht, das Jupyter Notebook regelmäßig zu speichern (z.B. über `Strg + S` oder über `File -> Save and Checkpoint`)."
   ],
   "metadata": {
    "collapsed": false
   }
  },
  {
   "cell_type": "markdown",
   "source": [
    "In dieser Übung werden wir uns mit wichtigen Software-Werkzeugen für Data Science vertraut machen. In diesem Notebook finden Sie Übung 2.1, die sich mit Numpy beschäftigt. Übung 2.2 (Pandas) finden Sie bei ILIAs.\n",
    "\n",
    "Diese Übungen dienen dazu, Sie auf verschiedene Aspekte der in den kommenden Wochen in den Übungen genutzten Werkzeuge aufmerksam zu machen.\n",
    "\n",
    "* Wenn Sie in Ihrem bisherigen Studienverlauf noch nicht viel mit Python zu tun hatten, schauen Sie doch gerne einmal bei ILIAS unter \"Lernressourcen\" nach. Ich habe Ihnen dort Inhalte hinterlegt, die Sie nutzen können, um sich im Selbststudium mit Python vertrauter zu machen."
   ],
   "metadata": {
    "collapsed": false
   }
  },
  {
   "cell_type": "markdown",
   "metadata": {},
   "source": [
    "## 2.1.1 Shapes und Co.\n",
    "\n",
    "Bei vielen Data Science Projekten werden Daten zunächst zugänglich gemacht, sodass sie als Numpy Arrays vorliegen. Das Verständnis von *Shapes* solcher Arrays ist eine wichtige Voraussetzung für eine produktive Arbeit mit diesen Datenstrukturen.\n",
    "\n",
    "Nehmen Sie die Folien zur heutigen Vorlesung zur Hand.\n",
    "\n",
    "**Ihre Aufgaben**\n",
    "\n",
    "(1) Betrachten Sie den untenstehenden Code. Beantworten Sie: Welchen [Shape](https://docs.scipy.org/doc/numpy/reference/generated/numpy.ndarray.shape.html) hat das Numpy Array `a`? "
   ]
  },
  {
   "cell_type": "code",
   "execution_count": 4,
   "metadata": {},
   "outputs": [
    {
     "name": "stdout",
     "output_type": "stream",
     "text": [
      "[ 5 10 15 20] (4,) [ 5 10 15 20]\n"
     ]
    }
   ],
   "source": [
    "import numpy as np\n",
    "a = np.array([5, 10, 15, 20])\n",
    "b = a.shape\n",
    "c = a.T\n",
    "print (a, b, c)\n"
   ]
  },
  {
   "cell_type": "markdown",
   "metadata": {},
   "source": [
    "(2) Lässt sich das Array `a` als (mathematischen) Vektor interpretieren? Wenn `a` ein Vektor ist, können Sie ihn [transponieren](https://docs.scipy.org/doc/numpy/reference/generated/numpy.ndarray.T.html)?\n",
    "Antwort:\n",
    "ja, siehe c im Oben."
   ]
  },
  {
   "cell_type": "markdown",
   "metadata": {},
   "source": [
    "(3) Betrachten Sie das unten stehende Array `b`. Erzeugen Sie aus `b` bitte zwei neue Arrays `c` und `d`: `c` soll ein Spaltenvektor sein, und `d` soll ein Zeilenvektor sein. Wie gehen Sie vor?"
   ]
  },
  {
   "cell_type": "code",
   "execution_count": 9,
   "metadata": {},
   "outputs": [
    {
     "name": "stdout",
     "output_type": "stream",
     "text": [
      "[ 2  4  6  8 10] [ 2  4  6  8 10] [ 2  4  6  8 10]\n"
     ]
    }
   ],
   "source": [
    "b = np.array([2, 4, 6, 8, 10])\n",
    "c = b.T\n",
    "d = b\n",
    "print(b, c, d)"
   ]
  },
  {
   "cell_type": "markdown",
   "metadata": {},
   "source": [
    "Lässt sich `c` bzw. `d` transponieren? Warum? nein, Numpy's transpose() (alias T) stellt(eng. reverse) das shape von array andersrum(. Dies bedeutet für ein 1 dimensionale array wie 'b' keine effect."
   ]
  },
  {
   "cell_type": "markdown",
   "metadata": {},
   "source": [
    "(4) Betrachten Sie die dritte Zeile des unten stehenden Codes: Hat sich durch die Zeile `k[0, 1] = 10` das Array `m` geändert? Falls ja, warum? Falls nein, warum hat es sich nicht geändert?\n",
    "Antwort:\n",
    "Ja, np.array() ist zwar ein dynamisches Feld und k wird sich wie ein Zeiger bei der c++ Sprache verhält. Daher ist 'm' eine Kopie von Zeiger der gewählten Elementen von matrix 'm'. In diesem Fall wurde an der Stelle erste Zeile zweite spalte von Matrix 10 geschrieben."
   ]
  },
  {
   "cell_type": "code",
   "execution_count": 16,
   "metadata": {},
   "outputs": [
    {
     "name": "stdout",
     "output_type": "stream",
     "text": [
      "[[ 1 10  3  4]\n",
      " [ 5  6  7  8]\n",
      " [ 9 10 11 12]] \n",
      " [[10  3]\n",
      " [ 6  7]]\n"
     ]
    }
   ],
   "source": [
    "k = np.array([[1,2,3,4], [5,6,7,8], [9,10,11,12]])\n",
    "m = k[:2, 1:3]\n",
    "k[0, 1] = 10\n",
    "print ( k, '\\n', m)"
   ]
  },
  {
   "cell_type": "markdown",
   "metadata": {},
   "source": [
    "(5) Betrachten Sie die dritte Zeile des unten stehenden Codes: Hat sich durch die Änderung des Arrays `p` der Inhalt von `q` geändert? Falls ja, warum? Falls nein, warum hat es sich nicht geändert?\n",
    "Antwort:\n",
    "Nein, weil hier(im zweiten Zeile) explizit die Kopie von zweiten und dritte Element aus erste Spalte von Matrix 'p' gemacht wurde(keine Kopie von Zeiger)"
   ]
  },
  {
   "cell_type": "code",
   "execution_count": 28,
   "metadata": {},
   "outputs": [
    {
     "name": "stdout",
     "output_type": "stream",
     "text": [
      "[5 9] \t\n",
      " [[ 1  2  3  4]\n",
      " [25  6  7  8]\n",
      " [ 9 10 11 12]]\n"
     ]
    }
   ],
   "source": [
    "p = np.array([[1,2,3,4], [5,6,7,8], [9,10,11,12]])\n",
    "q = p[[1, 2], 0]\n",
    "p[1, 0] = 25\n",
    "print(q, '\\t\\n', p)"
   ]
  },
  {
   "cell_type": "markdown",
   "metadata": {},
   "source": [
    "## 2.1.2 Broadcasting - Teil 1\n",
    "\n",
    "Nehmen Sie sich die Folien zur heutigen Vorlesung zur Hand. Unten sehen Sie eine Operation mit zwei Numpy Arrays `a` und `b`."
   ]
  },
  {
   "cell_type": "markdown",
   "metadata": {},
   "source": [
    "**Ihre Aufgaben**\n",
    "\n",
    "(1) Betrachten Sie die unten stehende Code-Zelle. Welchen Shape (Anzahl Zeilen, Anzahl Spalten) wird das Numpy Array `c` erhalten? \n",
    "\n",
    "  * Tragen Sie ihre Voraussage in die Variable `shape` ein. \n",
    "  * Begründen Sie Ihre Vorhersage mit den drei Broadcasting Regeln aus der Vorlesung.\n",
    "  * Berechnen Sie auf Papier das zu erwartende Ergebnis. Tragen Sie es als Numpy Array in die Variable `ergebnis` ein.\n",
    "  * Führen Sie dann jeweils die Zelle aus, um zu schauen, ob Sie richtig lagen.\n",
    "Antwort:\n",
    "die beiden arrays sind gleich dimension und gleich größ und daher wird auf jedem component des linken arrays aus Komponenten der rechten hingefügt."
   ]
  },
  {
   "cell_type": "code",
   "execution_count": 20,
   "metadata": {},
   "outputs": [
    {
     "name": "stdout",
     "output_type": "stream",
     "text": [
      "Shape korrekt.\n",
      "\n",
      "Ergebnis korrekt.\n",
      "\n"
     ]
    }
   ],
   "source": [
    "import numpy as np\n",
    "\n",
    "a = np.array([1, 2, 3])\n",
    "b = np.array([4, 5, 6])\n",
    "\n",
    "c = a + b\n",
    "\n",
    "# Ihre Vorhersagen\n",
    "shape = (3,)\n",
    "ergebnis = np.array([5, 7, 9])\n",
    "print('{}\\n'.format('Shape korrekt.' if np.all(shape==c.shape) else 'Shape nicht korrekt.'))\n",
    "print('{}\\n'.format('Ergebnis korrekt.' if np.array_equal(ergebnis, c) else 'Ergebnis nicht korrekt.'))"
   ]
  },
  {
   "cell_type": "markdown",
   "metadata": {},
   "source": [
    "(2) Betrachten Sie die unten stehende Code-Zelle. Welchen Shape (Anzahl Zeilen, Anzahl Spalten) wird das Numpy Array `c` erhalten? \n",
    "\n",
    "  * Tragen Sie ihre Voraussage in die Variable `shape` ein. \n",
    "  * Begründen Sie Ihre Vorhersage mit den drei Broadcasting Regeln aus der Vorlesung.\n",
    "  * Berechnen Sie auf Papier das zu erwartende Ergebnis. Tragen Sie es als Numpy Array in die Variable `ergebnis` ein.\n",
    "  * Führen Sie dann jeweils die Zelle aus, um zu schauen, ob Sie richtig lagen.\n",
    "Antwort:\n",
    "  The new-axis funktioniert wie eine reshape zur Konvertierung array[4,5,6] in einer spalte und damit wegen\n",
    "  der unterschiedlichen Dimensionen der Operanden füllen sich die beiden Seite der Add operation mit zusätzliche dimension zur Anpassung auf. D.h. 'a' und 'b' bekommen ein shape (3,3) und somit das Ergebnis auch."
   ]
  },
  {
   "cell_type": "code",
   "execution_count": 47,
   "metadata": {},
   "outputs": [
    {
     "name": "stdout",
     "output_type": "stream",
     "text": [
      "(2, 1, 3)\n",
      "[[4]\n",
      " [5]\n",
      " [6]] \n",
      " (3, 1)\n",
      "[1 2 3] \n",
      " (3,)\n",
      "[[5 6 7]\n",
      " [6 7 8]\n",
      " [7 8 9]]\n",
      "Shape Korrekt.\n",
      "\n",
      "Ergebnis korrekt.\n",
      "\n"
     ]
    }
   ],
   "source": [
    "a = np.array([1, 2, 3])\n",
    "# a = np.array([[1], [2], [3]])\n",
    "b = np.array([4, 5, 6])[:, np.newaxis]\n",
    "bt = np.array([[4, 5, 6],[1,2,3]])[:, np.newaxis]\n",
    "print(bt[:].shape)\n",
    "print(b, '\\n', b.shape)\n",
    "print(a, '\\n',a.shape)\n",
    "c = a + b\n",
    "print(c)\n",
    "shape = (3, 3) # Ihre Vorhersage\n",
    "ergebnis = np.array([[5,6,7],[6,7,8],[7,8,9]])\n",
    "print('{}\\n'.format('Shape Korrekt.' if np.all(shape==c.shape) else 'Shape nicht korrekt.'))\n",
    "print('{}\\n'.format('Ergebnis korrekt.' if np.array_equal(ergebnis, c) else 'Ergebnis nicht korrekt.'))"
   ]
  },
  {
   "cell_type": "markdown",
   "metadata": {},
   "source": [
    "(3) Betrachten Sie die unten stehende Code-Zelle. Welchen Shape (Anzahl Zeilen, Anzahl Spalten) wird das Numpy Array `c` erhalten? \n",
    "\n",
    "  * Tragen Sie ihre Voraussage in die Variable `shape` ein. \n",
    "  * Begründen Sie Ihre Vorhersage mit den drei Broadcasting Regeln aus der Vorlesung.\n",
    "  * Berechnen Sie auf Papier das zu erwartende Ergebnis. Tragen Sie es als Numpy Array in die Variable `ergebnis` ein.\n",
    "  * Führen Sie dann jeweils die Zelle aus, um zu schauen, ob Sie richtig lagen."
   ]
  },
  {
   "cell_type": "code",
   "execution_count": null,
   "outputs": [],
   "source": [
    "a = np.array([[1, 0, 0], [0, 0, 2]])\n",
    "b = np.ones(12).reshape((4, 1, 3))\n",
    "print(b)\n",
    "# print(np.ones((3, 2,3)))\n",
    "c = a * b\n",
    "# print(c)\n",
    "shape = (-1,) # Ihre Vorhersage\n",
    "ergebnis = np.array([-1]) # Ich vermute, dass sie hierüber länger nachdenken werden.\n",
    "\n",
    "print('{}\\n'.format('Shape korrekt.' if np.all(shape==c.shape) else 'Shape nicht korrekt.'))\n",
    "print('{}\\n'.format('Ergebnis korrekt.' if np.array_equal(ergebnis, c) else 'Ergebnis nicht korrekt.'))"
   ],
   "metadata": {
    "collapsed": false,
    "pycharm": {
     "name": "#%%\n",
     "is_executing": true
    }
   }
  },
  {
   "cell_type": "code",
   "execution_count": 69,
   "outputs": [
    {
     "ename": "SyntaxError",
     "evalue": "invalid syntax (3415409566.py, line 3)",
     "output_type": "error",
     "traceback": [
      "\u001B[1;36m  Input \u001B[1;32mIn [69]\u001B[1;36m\u001B[0m\n\u001B[1;33m    Ein häufiger Vorverarbeitungsschritt, der Ihnen in verschiedenen Data Science Projekten begegnen wird, ist die Normierung von Daten. Häufig werden dabei Datensätze, z.B. Zeitreihen, auf Mittelwert $0$ und Standardabweichung $1$ normiert. Dieser Vorgang wird auch *z-scoring* (oder: *Standardisierung*) genannt:\u001B[0m\n\u001B[1;37m        ^\u001B[0m\n\u001B[1;31mSyntaxError\u001B[0m\u001B[1;31m:\u001B[0m invalid syntax\n"
     ]
    }
   ],
   "source": [
    "## 2.1.3 Broadcasting Teil 2\n",
    "\n",
    "Ein häufiger Vorverarbeitungsschritt, der Ihnen in verschiedenen Data Science Projekten begegnen wird, ist die Normierung von Daten. Häufig werden dabei Datensätze, z.B. Zeitreihen, auf Mittelwert $0$ und Standardabweichung $1$ normiert. Dieser Vorgang wird auch *z-scoring* (oder: *Standardisierung*) genannt:\n",
    "\n",
    "Sei $x_i$ der $i$-te Datenpunkt einer Zeitreihe. Dann ist der z-score dieses Datenpunkts definiert als\n",
    "\n",
    "$$\\tilde{x}_i = \\frac{x_i - \\bar{x}}{\\sigma},$$\n",
    "\n",
    "wobei $\\bar{x}$ der Mittelwert sowie $\\sigma$ die Standardabweichung der Zeitreihe bezeichnen.\n",
    "\n",
    "Das in der unten stehenden Code-Zelle definierte Numpy Array `X` enthält 5 Zeitreihen (Spalten) mit je 30 Einträgen (Zeilen).\n",
    "\n",
    "* Nutzen Sie Broadcasting sowie [np.mean](https://docs.scipy.org/doc/numpy/reference/generated/numpy.mean.html) und [np.std](https://docs.scipy.org/doc/numpy/reference/generated/numpy.std.html), um die Zeitreihen auf Mittelwert 0 und Varianz 1 zu normieren. Die transformierten Zeitreihen sollen im Numpy Array `Y` gespeichert werden. Dabei schreiben Sie nur eine Zeile Code, um die Zeitreihen zu transformieren.\n",
    "* Beachten Sie das `axis` Argument bei `np.mean` und `np.std`."
   ],
   "metadata": {
    "collapsed": false,
    "pycharm": {
     "name": "#%%\n"
    }
   }
  },
  {
   "cell_type": "markdown",
   "source": [
    "## 2.1.3 Broadcasting Teil 2\n",
    "\n",
    "Ein häufiger Vorverarbeitungsschritt, der Ihnen in verschiedenen Data Science Projekten begegnen wird, ist die Normierung von Daten. Häufig werden dabei Datensätze, z.B. Zeitreihen, auf Mittelwert $0$ und Standardabweichung $1$ normiert. Dieser Vorgang wird auch *z-scoring* (oder: *Standardisierung*) genannt:\n",
    "\n",
    "Sei $x_i$ der $i$-te Datenpunkt einer Zeitreihe. Dann ist der z-score dieses Datenpunkts definiert als\n",
    "\n",
    "$$\\tilde{x}_i = \\frac{x_i - \\bar{x}}{\\sigma},$$ \n",
    "\n",
    "wobei $\\bar{x}$ der Mittelwert sowie $\\sigma$ die Standardabweichung der Zeitreihe bezeichnen.\n",
    "\n",
    "Das in der unten stehenden Code-Zelle definierte Numpy Array `X` enthält 5 Zeitreihen (Spalten) mit je 30 Einträgen (Zeilen). \n",
    "\n",
    "* Nutzen Sie Broadcasting sowie [np.mean](https://docs.scipy.org/doc/numpy/reference/generated/numpy.mean.html) und [np.std](https://docs.scipy.org/doc/numpy/reference/generated/numpy.std.html), um die Zeitreihen auf Mittelwert 0 und Varianz 1 zu normieren. Die transformierten Zeitreihen sollen im Numpy Array `Y` gespeichert werden. Dabei schreiben Sie nur eine Zeile Code, um die Zeitreihen zu transformieren.\n",
    "* Beachten Sie das `axis` Argument bei `np.mean` und `np.std`."
   ],
   "metadata": {
    "collapsed": false
   }
  },
  {
   "cell_type": "markdown",
   "source": [
    "import numpy as np\n",
    "np.random.seed(0)\n",
    "\n",
    "X = np.random.random((30, 5))\n",
    "\n",
    "# Ihr Ergebnis: Y = "
   ],
   "metadata": {
    "collapsed": false
   }
  },
  {
   "cell_type": "code",
   "execution_count": null,
   "metadata": {},
   "outputs": [],
   "source": [
    "import numpy as np\n",
    "np.random.seed(0)\n",
    "\n",
    "X = np.random.random((30, 5))\n",
    "\n",
    "# Ihr Ergebnis: Y = "
   ]
  },
  {
   "cell_type": "markdown",
   "metadata": {},
   "source": [
    "(2) Betrachten Sie den unten stehenden Code-Zellen.\n",
    "* Tragen Sie in der Variable `vorhersage` ein, welches Array Sie in Variable `y` erwarten.\n",
    "* Prüfen Sie durch Ausführen des Codes, ob Ihre Vorhersage richtig war.\n",
    "* Beantworten Sie die Frage: Wodurch wird der Shape des Arrays `y` bestimmt?"
   ]
  },
  {
   "cell_type": "code",
   "execution_count": null,
   "metadata": {},
   "outputs": [],
   "source": [
    "x = np.array([[0,  1,  2], [3,  4,  5], [6,  7,  8], [9, 10, 11]]) \n",
    "   \n",
    "rows = np.array([[0,0],[3,3]])\n",
    "cols = np.array([[0,2],[0,2]]) \n",
    "y = x[rows,cols] \n",
    "\n",
    "vorhersage = np.array([-1]) # Ihre Vorhersage\n",
    "\n",
    "print('{}\\n'.format('Ergebnis korrekt.' if np.array_equal(vorhersage, y) else 'Ergebnis nicht korrekt.'))"
   ]
  },
  {
   "cell_type": "markdown",
   "metadata": {},
   "source": [
    "(3) Betrachten Sie den unten stehenden Code-Zellen.\n",
    "* Tragen Sie in der Variable `vorhersage` ein, welches Array Sie in Variable `y` erwarten.\n",
    "* Prüfen Sie durch Ausführen des Codes, ob Ihre Vorhersage richtig war.\n",
    "* Beantworten Sie die Frage: Wodurch wird der Shape des Arrays `y` bestimmt?"
   ]
  },
  {
   "cell_type": "code",
   "execution_count": null,
   "metadata": {},
   "outputs": [],
   "source": [
    "x = np.array([[0, 1, 2],[3, 4, 5],[6, 7, 8],[9, 10, 11]]) \n",
    "\n",
    "y = x[1:4,[1,2]] # Kombination von Slicing und Advanced Indexing\n",
    "\n",
    "vorhersage = np.array([-1]) # Ihre Vorhersage\n",
    "\n",
    "print('{}\\n'.format('Ergebnis korrekt.' if np.array_equal(vorhersage, y) else 'Ergebnis nicht korrekt.'))"
   ]
  }
 ],
 "metadata": {
  "kernelspec": {
   "display_name": "Python 3",
   "language": "python",
   "name": "python3"
  },
  "language_info": {
   "codemirror_mode": {
    "name": "ipython",
    "version": 3
   },
   "file_extension": ".py",
   "mimetype": "text/x-python",
   "name": "python",
   "nbconvert_exporter": "python",
   "pygments_lexer": "ipython3",
   "version": "3.7.7"
  },
  "learntools_metadata": {
   "lesson_index": 0,
   "type": "exercise"
  }
 },
 "nbformat": 4,
 "nbformat_minor": 1
}