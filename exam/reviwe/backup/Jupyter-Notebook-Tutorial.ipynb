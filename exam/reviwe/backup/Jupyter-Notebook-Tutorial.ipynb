{
 "cells": [
  {
   "cell_type": "markdown",
   "metadata": {},
   "source": [
    "# Jupyter Notebook Tutorial\n",
    "Willkommen bei unserer kurzen Tour durch *Jupyter Notebook*. Hier möchte ich Ihnen kurz Basisfunktionen von Jupyter Notebook zeigen, um Ihnen einen guten Einstieg zu verschaffen. Sie finden oben in der Menüleiste unter \"*Help -> Jupyter Reference*\" eine ausführliche Dokumentation. Weiterhin bietet das Internet eine Fülle von [weiteren Tutorials](https://www.dataquest.io/blog/jupyter-notebook-tutorial) und [Dokumentationen](https://jupyter.readthedocs.io/en/latest/) zu Jupyter Notebook. Ich ermutige Sie, dort selbstständig nach weiteren Ressourcen und Informationen zu suchen.\n",
    "\n",
    "Aber zunächst wenden wir uns zwei zentralen Konzepten von *Jupyter Notebooks* zu: **Cells** (Zellen) und **Kernels**. \n",
    "\n",
    "* Ein Kernel führt den Programmcode in einem Notebook aus.\n",
    "* Cells sind Container für Text, der im Notebook angezeigt wird, oder für Code, der von einem Kernel ausgeführt wird. \n",
    "\n",
    "Wir schauen uns zunächst die \"Cells\" (Zellen) an, bevor wir uns dem Kernel zuwenden."
   ]
  },
  {
   "cell_type": "markdown",
   "metadata": {},
   "source": [
    "## Cells\n",
    "Es gibt zwei verschiedene Zelltypen:\n",
    "* Eine Code-Zelle enthält Code, der vom Kernel ausgeführt wird. Das Ergebnis der Programmausführung wird direkt unter die Zelle geschrieben.\n",
    "* Eine Markdown-Zelle enthält normalen Text, der durch die Auszeichnungssprache *Markdown* formatiert wurde. Die Formatierungen sind leicht zu erlernen und zum Beispiel in dieser [PDF-Datei](https://guides.github.com/pdfs/markdown-cheatsheet-online.pdf) als Übersicht zusammengestellt. Im Menü unter \"*Help -> Markdown Reference*\", sowie auf der [Webseite](https://daringfireball.net/projects/markdown/syntax) des Erfinders von *Markdown* finden Sie ebenfalls eine Anleitung.\n",
    "\n",
    "Dieser Text hier wurde in einer Markdown-Zelle geschrieben. Der Programmcode \"*print('Hallo Welt!')*\" unten wurde in einer Code-Zelle geschrieben. \n",
    "\n",
    "Sie können Markdown-Zelle und Code-Zellen ganz einfach voneinander unterscheiden: Links von den Code-Zellen sehen Sie die Zeichenkette \"*In \\[ \\]*\" (für **In**put), während bei Markdown-Zellen diese Zeichenkette nicht auftaucht.\n",
    "\n",
    "Lassen Sie uns die untenstehende Code-Zelle durch den Kernel ausführen. Klicken Sie mit der Maus einmal auf die untenstehende Code-Zelle, sodass sie von einem Rahmen umgeben wird. Sie können nun oben in der Menüleiste auf \"Run\" klicken oder aber die Tastenkombination \"Shift + Enter\" benutzen, um die Code-Zelle auszuführen."
   ]
  },
  {
   "cell_type": "code",
   "execution_count": null,
   "metadata": {
    "scrolled": true
   },
   "outputs": [],
   "source": [
    "print('Hallo Welt!')"
   ]
  },
  {
   "cell_type": "markdown",
   "metadata": {},
   "source": [
    "Sie sehen, dass sich die Zeichenkette links von der Code-Zelle verändert hat: von \"In\\[ \\]\" zu \"In\\[1\\]\". Die Ziffer in der eckigen Klammer gibt die Reihenfolge an, in der der Kernel die Zelle ausgeführt hat. Wenn Sie die obige Code-Zelle nochmal mit der Maus selektieren und mit \"Shift + Enter\" ausführen, dann wird die Ziffer weiter hochgezählt.\n",
    "\n",
    "Die Code-Zelle direkt unter diesem Text weist den Rechner an, die Code-Ausführung für 5 Sekunden zu pausieren. Selektieren Sie diese Code-Zelle und führen Sie sie mit \"Shift + Enter\" aus. Beobachten Sie dabei, wie die linke Zeichenkette nun mittels \"In\\[\\*\\]\" die-Ausführung anzeigt. Das \\*-Symbol verschwindet, sobald die Ausführung beendet ist. Auf diese Weise sehen Sie, ob noch Berechnungen in einer Zelle stattfinden.\n"
   ]
  },
  {
   "cell_type": "code",
   "execution_count": null,
   "metadata": {},
   "outputs": [],
   "source": [
    "import time\n",
    "time.sleep(5)"
   ]
  },
  {
   "cell_type": "markdown",
   "metadata": {},
   "source": [
    "## Edit- und Command-Modus\n",
    "Jupyter Notebook kennt zwei Modi: den Command-Mode und den Edit-Mode. Sie wechseln in den Command-Mode, indem Sie die Taste ESC (Escape) drücken. Sie gelangen in den Edit-Mode, indem Sie die Taste \"Enter\" drücken.\n",
    "\n",
    "* Im *Command-Mode* können Sie mit den Hoch- und Runter-Tasten zwischen den Zellen navigieren. Die jeweils aktive Zelle ist an der linken Seite mit einem blauen Balken markiert. Sie können hier Zellen hinzufügen, löschen und vorhandene Zellen in Code-Zellen oder Markdown-Zellen umwandeln.  \n",
    "\n",
    "Probieren Sie das gleich aus: \n",
    "1. Selektieren Sie mit der Maus diese Zelle hier. Links neben der Zelle sollte nun ein blauer Balken sichtbar sein.\n",
    "2. Nutzen Sie die Hoch- und Runter-Tasten, um zwischen den Zellen zu navigieren. Kommen Sie zu dieser Zelle hier zurück.\n",
    "3. Drücken Sie den Buchstaben \"b\" um eine neue Zelle unter (**b**elow) dieser Zelle hier zu erzeugen.\n",
    "4. Klicken Sie nun wieder auf diesen Text hier, um diese Zelle zu selektieren.\n",
    "5. Drücken Sie den Buchstaben \"a\" um eine neue Zelle über (**a**bove) dieser Zelle hier zu erzeugen.\n",
    "6. Selektieren Sie die untere Zelle, sodass sie mit dem blauen Balken markiert ist, und gehen mit Escape in den Command-Mode.\n",
    "7. Drücken Sie zweimal den Buchstaben \"d\" (wie **d**elete) und beobachten Sie, wie die Zelle gelöscht wird.\n",
    "8. Wiederholen Sie den Schritt 6 und 7 mit der zuvor erzeugten oberen leeren Zelle.\n",
    "9. Sie finden in den Menüs eine große Liste weiterer Tastaturkürzel. Schauen Sie sich dort um und kehren danach hierhin zurück.\n",
    "    1. Über das Menü gelangen Sie in eine Übersicht aller Kommandos: *View -> \"Activate Command Palette\" (Shortcut: CTRL+SHIFT+C)*.\n",
    "    2. Klicken Sie im Menü oben auf *Settings -> \"Advanced Settings Editor\" -> \"Keyboard Shortcuts\"* "
   ]
  },
  {
   "cell_type": "markdown",
   "metadata": {},
   "source": [
    "* Im *Edit-Mode* können Sie den Inhalt von Zellen editieren. Sie wechseln in den Edit-Mode, indem Sie die Taste \"Enter\" drücken. Die jeweils aktive Zelle ist blau umrandet.\n",
    "\n",
    "**Probieren Sie das gleich aus:**\n",
    "\n",
    "1. Selektieren Sie mit der Maus diese Zelle hier.\n",
    "2. Drücken Sie die \"Enter\" Taste und beobachten Sie, wie die Zelle blau eingerahmt wird.\n",
    "3. Sie befinden sich in einer Markdown-Zelle, die Text enthält. Sie erkennen dies auch an den Markdown-Formatierungen. Wie oben beschrieben, finden Sie im Menü unter \"*Help -> Markdown Reference*\" sowie in dieser [PDF-Datei](https://guides.github.com/pdfs/markdown-cheatsheet-online.pdf) eine Kurzübersicht über alle Markdown-Formatierungsbefehle.\n",
    "4. Sie können sich später bei Interesse einmal in den Dokumentationen anschauen, wie ich für Sie **diesen Text hier** in fetten Buchstaben geschrieben habe.\n",
    "5. Lassen Sie uns nun diese Markdown-Zelle \"ausführen\", indem Sie wieder \"Shift + Enter\" drücken oder im Menü auf \"Run\" klicken. Jupyter Notebook wird nun die Markdown-Formatierungen dieser Zelle interpretieren und entsprechend darstellen.\n",
    "6. Suchen Sie weiter oben die Code-Zelle mit dem \"Hallo Welt!\" Ausgabe. Gehen Sie dort in den Command-Mode und ersetzen das Wort \"Welt\" mit Ihrem Vornamen. Lassen Sie die Zelle ausführen."
   ]
  },
  {
   "cell_type": "markdown",
   "metadata": {},
   "source": [
    "## Kernel\n",
    "Jedes *Jupyter Notebook* enthält einen Kernel, der den Programmcode des Notebooks ausführt. Für verschiedene Programmiersprachen gibt es verschiedene Kernel. Wir arbeiten mit dem *Python 3 Kernel*. Wenn eine Code-Zelle durch den Kernel ausgeführt wird, verändert sich der Zustand des Kernels und die Ausgabe der Operationen werden unter die Code-Zelle geschrieben. \n",
    "\n",
    "**Was für Sie wichtig ist:**\n",
    "* Der Zustand des Kernels ist persistent über das gesamte Jupyter Notebook hinweg.\n",
    "\n",
    "Das bedeutet, dass alles, was Sie in einer Zelle machen (z.B. Variablen oder Funktionen definieren, Packages importieren) und durch den Kernel ausführen lassen, so auch in allen anderen Zellen zur Verfügung steht.\n",
    "\n",
    "**Beispiel.** Sie definieren in einer Code-Zelle eine Variable, und lassen den Kernel die Zelle ausführen. Sie navigieren dann in eine andere Code-Zelle und editieren diese. Die vorher definierte Variable steht auch in dieser anderen Code-Zelle zur Verfügung.\n",
    "\n",
    "**Probieren Sie es aus:**\n",
    "(Achten Sie hier besonders auf die Ziffern in den \"In \\[ \\]\" Zeichenketten links neben den Code-Zellen.)\n",
    "1. Selektieren Sie die untere Zelle (`x=5` etc) und führen Sie sie aus.\n",
    "2. Selektieren Sie dann die darunter stehende Zelle (`print...`) und führen Sie sie aus. Beobachten Sie dabei, wie in dieser neuen Zelle auf die Variablen zugegriffen werden konnten, die in der vorigen ausgeführten Zelle definiert wurden. Das meine ich mit \"Persistenz des Kernels\" über das gesamte Jupyter Notebook-Dokument.\n",
    "3. Führen Sie nun die nächste Zelle aus (`y=10`).\n",
    "4. Gehen Sie zurück zur vorigen Zelle (`print...`) und führen Sie diese aus. Überrascht Sie das Ergebnis?\n",
    "5. Betrachten Sie wieder die Ziffern in den links stehenden \"In\\[ \\]\" Zeichenketten. Die Reihenfolge der Ausführung ist für den aktuellen Zustand des Kernels relevant.\n",
    "\n",
    "Typischerweise werden Jupyter Notebooks von Oben nach Unten geschrieben und ausgeführt. **Achten Sie beim Programmieren darauf, dass der Kernel die Zellen von oben nach unten abarbeiten kann, insbesondere, wenn Sie im Dokument hin und her springen, wie dies beim Coden typischerweise der Fall ist.**\n"
   ]
  },
  {
   "cell_type": "code",
   "execution_count": null,
   "metadata": {},
   "outputs": [],
   "source": [
    "x = 5\n",
    "y = x*x\n",
    "print('{} mal {} ist {}.'.format(x, x, y))"
   ]
  },
  {
   "cell_type": "code",
   "execution_count": null,
   "metadata": {},
   "outputs": [],
   "source": [
    "print('Ist {} mal {} tatsächlich {}?'.format(x, x, y))"
   ]
  },
  {
   "cell_type": "code",
   "execution_count": null,
   "metadata": {},
   "outputs": [],
   "source": [
    "y = 10"
   ]
  },
  {
   "cell_type": "markdown",
   "metadata": {},
   "source": [
    "### Hinweis\n",
    "\n",
    "Wenn Sie selber Code in *Jupyter Notebook* schreiben und an Dritte weiterreichen wollen (insbesondere, wenn Sie das *Jupyter Notebook* als Hausaufgabe einreichen), ist es wichtig, die Reihenfolge Ihrer eigenen Programme und Berechnungen nochmal nachzuvollziehen. Dabei sind folgende Optionen recht hilfreich:\n",
    "\n",
    "* Sie können das Menü *Kernel -> Restart Kernel...* nutzen, um den Kernel neu zu starten. Beim Neustart des Kernels wird der Kernelzustand verworfen (d.h. es sind im Kernel keine ihrer Variablen oder Funktionen mehr enthalten). Danach können Sie Ihre Zellen von Oben nach Unten ausführen lassen und schauen, ob Ihr Code sich so verhält, wie Sie das wünschen.\n",
    "* Sie können das Menü \"Kernel -> Restart Kernel & Clear All Outputs...\" nutzen, um den Kernel neu zu starten und den vorherigen Output aller Code-Zellen zu löschen. Das ist, im Prinzip, nur eine Variante der obigen Option.\n",
    "* Sie können das Menü \"Kernel -> Restart Kernel & Run All Cells...\" nutzen, um den Kernel neu zu starten und das komplette Dokument von oben nach unten neu durchrechnen zu lassen. Dies ist ein guter Test, um zu sehen, ob das *Jupyter Notebook* auch bei einem Kollegen laufen wird."
   ]
  },
  {
   "cell_type": "markdown",
   "metadata": {},
   "source": [
    "## Umbenennen und Speichern\n",
    "\n",
    "Sie können den Namen Ihres Notebooks ändern, indem Sie oben links auf den aktuellen Namen des Jupyter Notebooks klicken oder auf *File -> Rename Notebook...*. \n",
    "\n",
    "Vergessen Sie nicht, den Zustand Ihres *Jupyter Notebooks* regelmäßig auf dem Server zu speichern. Das geht durch Drücken der Tastenkombination \"Strg + s\" oder einfach über *File -> \"Save Notebook\"*. Sie können einen alten Zustand (Checkpoint) laden über das Menü *File -> Revert Notebook To Checkpoint*."
   ]
  },
  {
   "cell_type": "markdown",
   "metadata": {},
   "source": [
    "## Exportieren und Beenden\n",
    "\n",
    "Wenn Sie Ihr *Jupyter Notebook* an einen Dritten weiterreichen wollen (z.B. beim Einreichen der Übungsaufgaben), dann laden Sie das Notebook herunter mit dem Menü *File -> Download*. \n",
    "\n",
    "Bevor Sie das Browser-Tab mit Ihrem Notebook schließen, ist es gute Sitte, den Kernel des Notebooks zu stoppen. Denn wenn Sie den Kernel nicht stoppen, wird er weiterlaufen, auch wenn Sie dieses Browserfenster hier bereits geschlossen haben. Sie stoppen den Kernel z.B. über das Menü mit *Kernel -> Shut Down Kernel* oder mit dem Menü *File -> Close and Shutdown Notebook*. Dann können Sie das Browserfenster schließen.\n",
    "\n",
    "**Probieren Sie dies gleich aus:**\n",
    "\n",
    "1. Stoppen Sie den Kernel dieses Notebooks. Sie haben dieses Tutorial erfolgreich abgeschlossen. \n",
    "3. Schließen Sie nun dieses Browserfenster."
   ]
  }
 ],
 "metadata": {
  "hide_input": false,
  "kernelspec": {
   "display_name": "Python 3",
   "language": "python",
   "name": "python3"
  },
  "language_info": {
   "codemirror_mode": {
    "name": "ipython",
    "version": 3
   },
   "file_extension": ".py",
   "mimetype": "text/x-python",
   "name": "python",
   "nbconvert_exporter": "python",
   "pygments_lexer": "ipython3",
   "version": "3.9.1"
  }
 },
 "nbformat": 4,
 "nbformat_minor": 4
}
