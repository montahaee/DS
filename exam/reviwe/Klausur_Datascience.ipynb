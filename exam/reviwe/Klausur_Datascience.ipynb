{
 "cells": [
  {
   "cell_type": "markdown",
   "source": [
    "# Klausur \"Einführung in Data Science\"\n",
    "### FH Aachen - University of Applied Sciences\n",
    "\n",
    "Datum: 09. September 2021 - Professor Dr. Stephan Bialonski"
   ],
   "attachments": {},
   "metadata": {
    "datalore": {
     "sheet_delimiter": false
    },
    "pycharm": {
     "name": "#%% md\n"
    }
   }
  },
  {
   "cell_type": "markdown",
   "source": [
    "## Name und Matrikelnummer\n",
    "\n",
    "- Ihr Vor- und Nachname: \n",
    "- Ihre Matrikelnummer: "
   ],
   "attachments": {},
   "metadata": {
    "datalore": {
     "sheet_delimiter": false
    },
    "pycharm": {
     "name": "#%% md\n"
    }
   }
  },
  {
   "cell_type": "markdown",
   "source": [
    "## Klausurbearbeitung. Dies müssen Sie tun:\n"
   ],
   "attachments": {},
   "metadata": {
    "datalore": {
     "sheet_delimiter": false
    },
    "pycharm": {
     "name": "#%% md\n"
    }
   }
  },
  {
   "cell_type": "markdown",
   "source": [
    "1. **Namen und Matrikelnummer eintragen.** Tragen Sie oben Ihren Namen sowie Ihre Matrikelnummer ein, indem Sie die Platzhalter \"(bitte ausfüllen)\" mit Ihren Angaben ersetzen.\n",
    "\n",
    "2. **Notebook umbenennen.** Benennen Sie dieses Jupyter Notebook nach folgendem Schema um: `Nachname-Vorname-Matrikelnummer`, wobei Sie für die Platzhalter entsprechend Ihren Namen und Ihre Matrikelnummer eintragen. Sie können das Notebook umbenennen, indem Sie auf `File>Rename` klicken und dann den neuen Namen des Jupyter Notebooks eintragen, oder indem Sie oben auf den alten Namen dieses Notebooks klicken und dort den neuen Namen eintragen. Speichern Sie Ihr Notebook nach der Umbenennung (Shortkey `Strg+s` oder auf das Speichern-Symbol (Diskette) oben klicken).\n",
    "\n",
    "3. **Bei Discord online gehen.** Sie müssen während der gesamten Klausurbearbeitung bei Discord erreichbar und ansprechbar sein und Ihren Bildschirm teilen sowie Ihre Webcam und Ihr Mikrofon aktiviert haben. Genaueres finden Sie bei Discord im Announcements Kanal.\n",
    "\n",
    "4. **Klausur bearbeiten.** *Die Bearbeitungszeit beträgt 75 Minuten.* Achten Sie auf die Bearbeitungszeit und stellen Sie sich ggf. einen Countdown-Timer oder Wecker. **Planen Sie für die Klausurabgabe 5 Minuten Zeit ein. Die Klausurabgabe beginnt nach Ende der Bearbeitungszeit.** Sie finden direkt unter diesem Satz eine Anleitung (\"Klausurabgabe. Das müssen Sie tun.\"), wie Sie Ihre Klausur abgeben werden."
   ],
   "attachments": {},
   "metadata": {
    "datalore": {
     "sheet_delimiter": false
    },
    "pycharm": {
     "name": "#%% md\n"
    }
   }
  },
  {
   "cell_type": "markdown",
   "source": [
    "## Klausurabgabe. Dies müssen Sie tun:"
   ],
   "attachments": {},
   "metadata": {
    "datalore": {
     "sheet_delimiter": false
    },
    "pycharm": {
     "name": "#%% md\n"
    }
   }
  },
  {
   "cell_type": "markdown",
   "source": [
    "1. **Bearbeitungen abspeichern.** Das Wichtigste zuerst: Speichern Sie Ihre Bearbeitungen (Shortkey `Strg+s` oder auf das Speichern-Symbol (Diskette) klicken).\n",
    "\n",
    "2. **Jupyter Notebook Datei abspeichern.** Speichern Sie Ihre Jupyter Notebook als Datei (im Folgenden \"Klausur\" genannt) lokal auf Ihrem Rechner ab. (`File > Download as > Notebook (.ipynb)`).\n",
    "\n",
    "3. **Reichen Sie die Klausur im Prüfungs-ILIAS ein.** Sie geben Ihre Klausur (Ihre Jupyter Notebook Datei) bei ILIAS an der Stelle ab, wo Sie sie auch heruntergeladen haben. Laden Sie Ihre Jupyter Notebook Datei hoch.\n",
    "\n",
    "4. **Wichtig:** Sie sind verpflichtet, Ihre lokale Kopie Ihrer Klausur ein Jahr lang aufzubewahren und auf Verlangen des Dozenten oder des Prüfungsamtes vorzulegen. Eine Weitergabe an andere Personen oder Institutionen ist untersagt."
   ],
   "attachments": {},
   "metadata": {
    "datalore": {
     "sheet_delimiter": false
    },
    "pycharm": {
     "name": "#%% md\n"
    }
   }
  },
  {
   "cell_type": "markdown",
   "source": [
    "## Klausuraufgaben"
   ],
   "attachments": {},
   "metadata": {
    "datalore": {
     "sheet_delimiter": false
    },
    "pycharm": {
     "name": "#%% md\n"
    }
   }
  },
  {
   "cell_type": "markdown",
   "source": [
    "### Hinweise\n",
    "\n",
    "(1) **Überblick verschaffen.** Wieviele Punkte können Sie bei welchen Aufgaben erzielen?\n",
    "\n",
    "(2) **Fragen während der Klausur?** Sprechen Sie bei Discord die Tutoren bzw. den Dozenten an. Wir kommen zu Ihnen und klären Ihre Fragen im Zweiergespräch bei Discord.\n",
    "\n",
    "(3) **Sie müssen die Klausur persönlich und ohne fremde Hilfe bearbeiten.**\n",
    "\n",
    "(4) **Dies ist eine Remote-Kofferklausur**. Sie dürfen erlaubte Hilfsmittel nutzen.\n",
    "\n",
    "(5) Führen Sie die unten stehende Codezelle aus, um die Größe der von Ihnen zu erstellenden Abbildungen zu konfigurieren."
   ],
   "attachments": {},
   "metadata": {
    "datalore": {
     "sheet_delimiter": false
    },
    "pycharm": {
     "name": "#%% md\n"
    }
   }
  },
  {
   "cell_type": "code",
   "source": [
    "import matplotlib.pyplot as plt\n",
    "%matplotlib inline\n",
    "plt.rcParams[\"figure.figsize\"] = [10, 7]"
   ],
   "execution_count": 1,
   "outputs": [],
   "metadata": {
    "datalore": {
     "sheet_delimiter": false
    },
    "pycharm": {
     "name": "#%%\n"
    }
   }
  },
  {
   "cell_type": "markdown",
   "source": [
    "### Aufgabe: Temperatur (Klimawandel Teil 1)\n",
    "\n",
    "#### <span style=\"color:red\">Erreichbare Punktzahl: 35</span>\n",
    "\n",
    "Im Juli 2021 wurden Teile West- und Mitteleuropas durch Hochwasser überschwemmt. Diese Naturkatastrophe wird unter anderem in Kontext des Klimawandels diskutiert, der extreme Wetterzustände wahrscheinlicher machen könnte. In dieser Aufgabe analysieren Sie Daten zum Klimawandel.\n",
    "\n",
    "**Ihre Daten**\n",
    "\n",
    "Ein aufbereiteter Datensatz von Temperaturmessungen, der durch die Zusammenführung von 14 verschiedenen Temperaturdatenbanken entstanden ist.\n",
    "\n",
    "**Ihre Aufgaben**\n",
    "\n",
    "(1) Führen Sie zunächst die unten stehende Code-Zelle aus, um den Datensatz und die Pandas-Bibliothek verfügbar zu machen."
   ],
   "attachments": {},
   "metadata": {
    "datalore": {
     "sheet_delimiter": false
    },
    "pycharm": {
     "name": "#%% md\n"
    }
   }
  },
  {
   "cell_type": "code",
   "source": [
    "import pandas as pd\n",
    "\n",
    "# Datensatz\n",
    "temperature_data_source = 'http://lab.bialonski.de/data/ds/exam/global_temperature.csv.zip'"
   ],
   "execution_count": 2,
   "outputs": [],
   "metadata": {
    "datalore": {
     "sheet_delimiter": false
    },
    "pycharm": {
     "name": "#%%\n"
    }
   }
  },
  {
   "cell_type": "markdown",
   "source": [
    "(2) Importieren Sie mithilfe von Pandas den Datensatz in einen DataFrame, den Sie `df_temp` nennen. Nutzen Sie dazu die Variable `temperature_data_source`. <span style=\"color:red;font-weight:bold\">\\[ /3\\] Punkte</span>"
   ],
   "attachments": {},
   "metadata": {
    "datalore": {
     "sheet_delimiter": false
    },
    "pycharm": {
     "name": "#%% md\n"
    }
   }
  },
  {
   "cell_type": "code",
   "source": [
    "# Ihr Code\n",
    "df_temp = pd.read_csv(temperature_data_source)\n",
    "df_temp"
   ],
   "execution_count": 102,
   "outputs": [
    {
     "data": {
      "text/html": [
       "<div>\n",
       "<style scoped>\n",
       "    .dataframe tbody tr th:only-of-type {\n",
       "        vertical-align: middle;\n",
       "    }\n",
       "\n",
       "    .dataframe tbody tr th {\n",
       "        vertical-align: top;\n",
       "    }\n",
       "\n",
       "    .dataframe thead th {\n",
       "        text-align: right;\n",
       "    }\n",
       "</style>\n",
       "<table border=\"1\" class=\"dataframe\">\n",
       "  <thead>\n",
       "    <tr style=\"text-align: right;\">\n",
       "      <th></th>\n",
       "      <th>dt</th>\n",
       "      <th>LandAverageTemperature</th>\n",
       "      <th>LandAverageTemperatureUncertainty</th>\n",
       "      <th>LandMaxTemperature</th>\n",
       "      <th>LandMaxTemperatureUncertainty</th>\n",
       "      <th>LandMinTemperature</th>\n",
       "      <th>LandMinTemperatureUncertainty</th>\n",
       "      <th>LandAndOceanAverageTemperature</th>\n",
       "      <th>LandAndOceanAverageTemperatureUncertainty</th>\n",
       "    </tr>\n",
       "  </thead>\n",
       "  <tbody>\n",
       "    <tr>\n",
       "      <th>0</th>\n",
       "      <td>1750-01-01</td>\n",
       "      <td>3.034</td>\n",
       "      <td>3.574</td>\n",
       "      <td>NaN</td>\n",
       "      <td>NaN</td>\n",
       "      <td>NaN</td>\n",
       "      <td>NaN</td>\n",
       "      <td>NaN</td>\n",
       "      <td>NaN</td>\n",
       "    </tr>\n",
       "    <tr>\n",
       "      <th>1</th>\n",
       "      <td>1750-02-01</td>\n",
       "      <td>3.083</td>\n",
       "      <td>3.702</td>\n",
       "      <td>NaN</td>\n",
       "      <td>NaN</td>\n",
       "      <td>NaN</td>\n",
       "      <td>NaN</td>\n",
       "      <td>NaN</td>\n",
       "      <td>NaN</td>\n",
       "    </tr>\n",
       "    <tr>\n",
       "      <th>2</th>\n",
       "      <td>1750-03-01</td>\n",
       "      <td>5.626</td>\n",
       "      <td>3.076</td>\n",
       "      <td>NaN</td>\n",
       "      <td>NaN</td>\n",
       "      <td>NaN</td>\n",
       "      <td>NaN</td>\n",
       "      <td>NaN</td>\n",
       "      <td>NaN</td>\n",
       "    </tr>\n",
       "    <tr>\n",
       "      <th>3</th>\n",
       "      <td>1750-04-01</td>\n",
       "      <td>8.490</td>\n",
       "      <td>2.451</td>\n",
       "      <td>NaN</td>\n",
       "      <td>NaN</td>\n",
       "      <td>NaN</td>\n",
       "      <td>NaN</td>\n",
       "      <td>NaN</td>\n",
       "      <td>NaN</td>\n",
       "    </tr>\n",
       "    <tr>\n",
       "      <th>4</th>\n",
       "      <td>1750-05-01</td>\n",
       "      <td>11.573</td>\n",
       "      <td>2.072</td>\n",
       "      <td>NaN</td>\n",
       "      <td>NaN</td>\n",
       "      <td>NaN</td>\n",
       "      <td>NaN</td>\n",
       "      <td>NaN</td>\n",
       "      <td>NaN</td>\n",
       "    </tr>\n",
       "    <tr>\n",
       "      <th>...</th>\n",
       "      <td>...</td>\n",
       "      <td>...</td>\n",
       "      <td>...</td>\n",
       "      <td>...</td>\n",
       "      <td>...</td>\n",
       "      <td>...</td>\n",
       "      <td>...</td>\n",
       "      <td>...</td>\n",
       "      <td>...</td>\n",
       "    </tr>\n",
       "    <tr>\n",
       "      <th>3187</th>\n",
       "      <td>2015-08-01</td>\n",
       "      <td>14.755</td>\n",
       "      <td>0.072</td>\n",
       "      <td>20.699</td>\n",
       "      <td>0.110</td>\n",
       "      <td>9.005</td>\n",
       "      <td>0.170</td>\n",
       "      <td>17.589</td>\n",
       "      <td>0.057</td>\n",
       "    </tr>\n",
       "    <tr>\n",
       "      <th>3188</th>\n",
       "      <td>2015-09-01</td>\n",
       "      <td>12.999</td>\n",
       "      <td>0.079</td>\n",
       "      <td>18.845</td>\n",
       "      <td>0.088</td>\n",
       "      <td>7.199</td>\n",
       "      <td>0.229</td>\n",
       "      <td>17.049</td>\n",
       "      <td>0.058</td>\n",
       "    </tr>\n",
       "    <tr>\n",
       "      <th>3189</th>\n",
       "      <td>2015-10-01</td>\n",
       "      <td>10.801</td>\n",
       "      <td>0.102</td>\n",
       "      <td>16.450</td>\n",
       "      <td>0.059</td>\n",
       "      <td>5.232</td>\n",
       "      <td>0.115</td>\n",
       "      <td>16.290</td>\n",
       "      <td>0.062</td>\n",
       "    </tr>\n",
       "    <tr>\n",
       "      <th>3190</th>\n",
       "      <td>2015-11-01</td>\n",
       "      <td>7.433</td>\n",
       "      <td>0.119</td>\n",
       "      <td>12.892</td>\n",
       "      <td>0.093</td>\n",
       "      <td>2.157</td>\n",
       "      <td>0.106</td>\n",
       "      <td>15.252</td>\n",
       "      <td>0.063</td>\n",
       "    </tr>\n",
       "    <tr>\n",
       "      <th>3191</th>\n",
       "      <td>2015-12-01</td>\n",
       "      <td>5.518</td>\n",
       "      <td>0.100</td>\n",
       "      <td>10.725</td>\n",
       "      <td>0.154</td>\n",
       "      <td>0.287</td>\n",
       "      <td>0.099</td>\n",
       "      <td>14.774</td>\n",
       "      <td>0.062</td>\n",
       "    </tr>\n",
       "  </tbody>\n",
       "</table>\n",
       "<p>3192 rows × 9 columns</p>\n",
       "</div>"
      ]
     },
     "metadata": {},
     "output_type": "display_data"
    }
   ],
   "metadata": {
    "datalore": {
     "sheet_delimiter": false
    },
    "pycharm": {
     "name": "#%%\n"
    }
   }
  },
  {
   "cell_type": "markdown",
   "source": [
    "(3) Der DataFrame, den Sie erhalten haben, enthält unter anderem die mittlere Temperatur an Land (`LandAverageTemperature`), die zu verschiedenen Zeitpunkten (Monate) gemessen worden ist. <span style=\"color:red;font-weight:bold\">\\[ /6\\] Punkte</span>\n",
    "\n",
    "* Wandeln Sie *zunächst* die Spalte, die die Messzeitpunkte enthält, in einen *datetime* Typen um. Sie können die Pandas Funktion `to_datetime` dafür nutzen. (3 Punkte)\n",
    "\n",
    "* Machen Sie *anschließend* die Datumsspalte zum Index Ihres DataFrames. Sie können die Pandas Funktion `set_index` dafür nutzen. (3 Punkte)\n",
    "\n",
    "* Wichtig:\n",
    "  - Sie können beide Schritte bereits in der vorherigen Teilaufgabe erledigen.\n",
    "  - Überprüfen Sie, ob der Index Ihres DataFrames die korrekten Jahreszahlen wiedergibt. "
   ],
   "attachments": {},
   "metadata": {
    "datalore": {
     "sheet_delimiter": false
    },
    "pycharm": {
     "name": "#%% md\n"
    }
   }
  },
  {
   "cell_type": "code",
   "source": [
    "# Ihr Code\n",
    "df_temp[\"dt\"] = pd.to_datetime(df_temp[\"dt\"])\n",
    "df_temp.set_index(\"dt\", inplace=True)\n",
    "df_temp"
   ],
   "execution_count": 95,
   "outputs": [
    {
     "data": {
      "text/html": [
       "<div>\n",
       "<style scoped>\n",
       "    .dataframe tbody tr th:only-of-type {\n",
       "        vertical-align: middle;\n",
       "    }\n",
       "\n",
       "    .dataframe tbody tr th {\n",
       "        vertical-align: top;\n",
       "    }\n",
       "\n",
       "    .dataframe thead th {\n",
       "        text-align: right;\n",
       "    }\n",
       "</style>\n",
       "<table border=\"1\" class=\"dataframe\">\n",
       "  <thead>\n",
       "    <tr style=\"text-align: right;\">\n",
       "      <th></th>\n",
       "      <th>LandAverageTemperature</th>\n",
       "      <th>LandAverageTemperatureUncertainty</th>\n",
       "      <th>LandMaxTemperature</th>\n",
       "      <th>LandMaxTemperatureUncertainty</th>\n",
       "      <th>LandMinTemperature</th>\n",
       "      <th>LandMinTemperatureUncertainty</th>\n",
       "      <th>LandAndOceanAverageTemperature</th>\n",
       "      <th>LandAndOceanAverageTemperatureUncertainty</th>\n",
       "    </tr>\n",
       "    <tr>\n",
       "      <th>dt</th>\n",
       "      <th></th>\n",
       "      <th></th>\n",
       "      <th></th>\n",
       "      <th></th>\n",
       "      <th></th>\n",
       "      <th></th>\n",
       "      <th></th>\n",
       "      <th></th>\n",
       "    </tr>\n",
       "  </thead>\n",
       "  <tbody>\n",
       "    <tr>\n",
       "      <th>1750-01-01</th>\n",
       "      <td>3.034</td>\n",
       "      <td>3.574</td>\n",
       "      <td>NaN</td>\n",
       "      <td>NaN</td>\n",
       "      <td>NaN</td>\n",
       "      <td>NaN</td>\n",
       "      <td>NaN</td>\n",
       "      <td>NaN</td>\n",
       "    </tr>\n",
       "    <tr>\n",
       "      <th>1750-02-01</th>\n",
       "      <td>3.083</td>\n",
       "      <td>3.702</td>\n",
       "      <td>NaN</td>\n",
       "      <td>NaN</td>\n",
       "      <td>NaN</td>\n",
       "      <td>NaN</td>\n",
       "      <td>NaN</td>\n",
       "      <td>NaN</td>\n",
       "    </tr>\n",
       "    <tr>\n",
       "      <th>1750-03-01</th>\n",
       "      <td>5.626</td>\n",
       "      <td>3.076</td>\n",
       "      <td>NaN</td>\n",
       "      <td>NaN</td>\n",
       "      <td>NaN</td>\n",
       "      <td>NaN</td>\n",
       "      <td>NaN</td>\n",
       "      <td>NaN</td>\n",
       "    </tr>\n",
       "    <tr>\n",
       "      <th>1750-04-01</th>\n",
       "      <td>8.490</td>\n",
       "      <td>2.451</td>\n",
       "      <td>NaN</td>\n",
       "      <td>NaN</td>\n",
       "      <td>NaN</td>\n",
       "      <td>NaN</td>\n",
       "      <td>NaN</td>\n",
       "      <td>NaN</td>\n",
       "    </tr>\n",
       "    <tr>\n",
       "      <th>1750-05-01</th>\n",
       "      <td>11.573</td>\n",
       "      <td>2.072</td>\n",
       "      <td>NaN</td>\n",
       "      <td>NaN</td>\n",
       "      <td>NaN</td>\n",
       "      <td>NaN</td>\n",
       "      <td>NaN</td>\n",
       "      <td>NaN</td>\n",
       "    </tr>\n",
       "    <tr>\n",
       "      <th>...</th>\n",
       "      <td>...</td>\n",
       "      <td>...</td>\n",
       "      <td>...</td>\n",
       "      <td>...</td>\n",
       "      <td>...</td>\n",
       "      <td>...</td>\n",
       "      <td>...</td>\n",
       "      <td>...</td>\n",
       "    </tr>\n",
       "    <tr>\n",
       "      <th>2015-08-01</th>\n",
       "      <td>14.755</td>\n",
       "      <td>0.072</td>\n",
       "      <td>20.699</td>\n",
       "      <td>0.110</td>\n",
       "      <td>9.005</td>\n",
       "      <td>0.170</td>\n",
       "      <td>17.589</td>\n",
       "      <td>0.057</td>\n",
       "    </tr>\n",
       "    <tr>\n",
       "      <th>2015-09-01</th>\n",
       "      <td>12.999</td>\n",
       "      <td>0.079</td>\n",
       "      <td>18.845</td>\n",
       "      <td>0.088</td>\n",
       "      <td>7.199</td>\n",
       "      <td>0.229</td>\n",
       "      <td>17.049</td>\n",
       "      <td>0.058</td>\n",
       "    </tr>\n",
       "    <tr>\n",
       "      <th>2015-10-01</th>\n",
       "      <td>10.801</td>\n",
       "      <td>0.102</td>\n",
       "      <td>16.450</td>\n",
       "      <td>0.059</td>\n",
       "      <td>5.232</td>\n",
       "      <td>0.115</td>\n",
       "      <td>16.290</td>\n",
       "      <td>0.062</td>\n",
       "    </tr>\n",
       "    <tr>\n",
       "      <th>2015-11-01</th>\n",
       "      <td>7.433</td>\n",
       "      <td>0.119</td>\n",
       "      <td>12.892</td>\n",
       "      <td>0.093</td>\n",
       "      <td>2.157</td>\n",
       "      <td>0.106</td>\n",
       "      <td>15.252</td>\n",
       "      <td>0.063</td>\n",
       "    </tr>\n",
       "    <tr>\n",
       "      <th>2015-12-01</th>\n",
       "      <td>5.518</td>\n",
       "      <td>0.100</td>\n",
       "      <td>10.725</td>\n",
       "      <td>0.154</td>\n",
       "      <td>0.287</td>\n",
       "      <td>0.099</td>\n",
       "      <td>14.774</td>\n",
       "      <td>0.062</td>\n",
       "    </tr>\n",
       "  </tbody>\n",
       "</table>\n",
       "<p>3192 rows × 8 columns</p>\n",
       "</div>"
      ]
     },
     "metadata": {},
     "output_type": "display_data"
    }
   ],
   "metadata": {
    "datalore": {
     "sheet_delimiter": false
    },
    "pycharm": {
     "name": "#%%\n"
    }
   }
  },
  {
   "cell_type": "markdown",
   "source": [
    "(4) Bestimmen Sie einen neuen DataFrame oder Series `df_temp2`, der jeweils **die Mittelwerte der** `LandAverageTemperature` **pro Jahr** enthält.  <span style=\"color:red;font-weight:bold\">\\[ /6\\] Punkte</span>\n",
    "\n",
    "1. Die Mittelwerte werden mittels Pandas ermittelt (4 Punkte).\n",
    "2. Der neue DataFrame (oder Series) enthält nur die Spalte `LandAverageTemperature`. (2 Punkte)"
   ],
   "attachments": {},
   "metadata": {
    "datalore": {
     "sheet_delimiter": false
    },
    "pycharm": {
     "name": "#%% md\n"
    }
   }
  },
  {
   "cell_type": "code",
   "source": [
    "#Ihr Code TODO\n",
    "df_temp.tail(5)\n",
    "#df_temp2 = df_temp[\"LandAverageTemperature\"].rolling(12).mean()\n",
    "#df_temp2\n",
    "#df_temp2 = pd.Series.rolling(df_temp[\"LandAverageTemperature\"], 12).mean()\n",
    "df_temp2"
   ],
   "execution_count": 100,
   "outputs": [
    {
     "data": {
      "text/html": []
     },
     "metadata": {},
     "output_type": "display_data"
    }
   ],
   "metadata": {
    "datalore": {
     "sheet_delimiter": false
    },
    "pycharm": {
     "name": "#%%\n"
    }
   }
  },
  {
   "cell_type": "markdown",
   "source": [
    "(5) Visualisieren Sie mittlere globale Landtemperatur (LandAverageTemperature) als Funktion des Meßjahres. Ihre Abbildung muss folgende Eigenschaften erfüllen:  <span style=\"color:red;font-weight:bold\">\\[ /6\\] Punkte</span>\n",
    "\n",
    "- Die x-Achse ist mit \"Jahr\" beschriftet. (1 Punkte)\n",
    "- Auf der x-Achse stehen Jahreszahlen (z.B: '1920'). (1 Punkte)  \n",
    "- Der Titel der Abbildung lautet \"mittlere globale Landtemperatur\". (1 Punkte)\n",
    "- Die Abbildung zeigt die mittlere globale Landtemperatur aus Teilaufgabe (4) gegen die Zeit aufgetragen. (3 Punkte)"
   ],
   "attachments": {},
   "metadata": {
    "datalore": {
     "sheet_delimiter": false
    },
    "pycharm": {
     "name": "#%% md\n"
    }
   }
  },
  {
   "cell_type": "code",
   "source": [
    "# Ihr Code\n",
    "df_temp[\"LandAverageTemperature\"].plot(xlabel=\"Jahr\", title=\"mittlere globale Landtemperatur\")"
   ],
   "execution_count": 12,
   "outputs": [
    {
     "data": {
      "text/plain": [
       "<AxesSubplot:title={'center':'mittlere globale Landtemperatur'}, xlabel='Jahr'>"
      ],
      "image/png": "[encoded data removed]"
     },
     "metadata": {
      "image/png": {}
     },
     "output_type": "display_data"
    }
   ],
   "metadata": {
    "datalore": {
     "sheet_delimiter": false
    },
    "pycharm": {
     "name": "#%%\n"
    }
   }
  },
  {
   "cell_type": "markdown",
   "source": [
    "<span style=\"color:blue;font-weight:bold\">Checkpoint: Führen Sie die folgende Code-Zeile aus, um mit korrekten Daten weiterzuarbeiten.</span>"
   ],
   "attachments": {},
   "metadata": {
    "datalore": {
     "sheet_delimiter": false
    },
    "pycharm": {
     "name": "#%% md\n"
    }
   }
  },
  {
   "cell_type": "code",
   "source": [
    "df_temp2_source = 'http://lab.bialonski.de/data/ds/exam/global-temperature-processed.csv.zip'\n",
    "\n",
    "# df_temp = # Importieren Sie hier die unter \"df_temp2_source\" hinterlegten Daten.\n",
    "# Vergessen Sie nicht, den Index richtig als DateTime-Typ zu setzen. \n",
    "df_temp = pd.read_csv(df_temp2_source)\n",
    "df_temp[\"dt\"] = pd.to_datetime(df_temp[\"dt\"])\n",
    "df_temp.set_index(\"dt\", inplace=True)\n",
    "df_temp"
   ],
   "execution_count": 110,
   "outputs": [
    {
     "data": {
      "text/html": [
       "<div>\n",
       "<style scoped>\n",
       "    .dataframe tbody tr th:only-of-type {\n",
       "        vertical-align: middle;\n",
       "    }\n",
       "\n",
       "    .dataframe tbody tr th {\n",
       "        vertical-align: top;\n",
       "    }\n",
       "\n",
       "    .dataframe thead th {\n",
       "        text-align: right;\n",
       "    }\n",
       "</style>\n",
       "<table border=\"1\" class=\"dataframe\">\n",
       "  <thead>\n",
       "    <tr style=\"text-align: right;\">\n",
       "      <th></th>\n",
       "      <th>LandAverageTemperature</th>\n",
       "    </tr>\n",
       "    <tr>\n",
       "      <th>dt</th>\n",
       "      <th></th>\n",
       "    </tr>\n",
       "  </thead>\n",
       "  <tbody>\n",
       "    <tr>\n",
       "      <th>1750-12-31</th>\n",
       "      <td>8.719364</td>\n",
       "    </tr>\n",
       "    <tr>\n",
       "      <th>1751-12-31</th>\n",
       "      <td>7.976143</td>\n",
       "    </tr>\n",
       "    <tr>\n",
       "      <th>1752-12-31</th>\n",
       "      <td>5.779833</td>\n",
       "    </tr>\n",
       "    <tr>\n",
       "      <th>1753-12-31</th>\n",
       "      <td>8.388083</td>\n",
       "    </tr>\n",
       "    <tr>\n",
       "      <th>1754-12-31</th>\n",
       "      <td>8.469333</td>\n",
       "    </tr>\n",
       "    <tr>\n",
       "      <th>...</th>\n",
       "      <td>...</td>\n",
       "    </tr>\n",
       "    <tr>\n",
       "      <th>2011-12-31</th>\n",
       "      <td>9.516000</td>\n",
       "    </tr>\n",
       "    <tr>\n",
       "      <th>2012-12-31</th>\n",
       "      <td>9.507333</td>\n",
       "    </tr>\n",
       "    <tr>\n",
       "      <th>2013-12-31</th>\n",
       "      <td>9.606500</td>\n",
       "    </tr>\n",
       "    <tr>\n",
       "      <th>2014-12-31</th>\n",
       "      <td>9.570667</td>\n",
       "    </tr>\n",
       "    <tr>\n",
       "      <th>2015-12-31</th>\n",
       "      <td>9.831000</td>\n",
       "    </tr>\n",
       "  </tbody>\n",
       "</table>\n",
       "<p>266 rows × 1 columns</p>\n",
       "</div>"
      ]
     },
     "metadata": {},
     "output_type": "display_data"
    }
   ],
   "metadata": {
    "datalore": {
     "sheet_delimiter": false
    },
    "pycharm": {
     "name": "#%%\n"
    }
   }
  },
  {
   "cell_type": "markdown",
   "source": [
    "(6) In der Klimaforschung ist es üblich, Temperaturen mit einem Referenzwert zu vergleichen, der über einen 30-Jahreszeitraum ermittelt wurden. Die sogenannten *Temperaturanomalien* werden bestimmt, indem von einer gegebenen Temperatur der Referenzwert subtrahiert wird. <span style=\"color:red;font-weight:bold\">\\[ /10\\] Punkte</span>\n",
    "\n",
    "1. Bestimmen Sie die mittlere globale Landtemperatur als Mittelwert über die Jahre 1951 bis 1980. (5 Punkte)\n",
    "2. Geben Sie diesen Mittelwert an. (2 Punkte)\n",
    "3. Bestimmen Sie die Temperaturanomalien, indem Sie von den Jahrestemperaturen jeweils den Referenzwert subtrahieren. Visualisieren Sie die Temperaturanomalien:\n",
    "   - Die x-Achse ist mit \"Jahr\" beschriftet. (1 Punkte)\n",
    "   - Auf der x-Achse stehen Datumsangaben (z.B: '1920'). (1 Punkte)  \n",
    "   - Der Titel der Abbildung lautet \"mittlere globale Temperaturanomalien\". (1 Punkte)"
   ],
   "attachments": {},
   "metadata": {
    "datalore": {
     "sheet_delimiter": false
    },
    "pycharm": {
     "name": "#%% md\n"
    }
   }
  },
  {
   "cell_type": "code",
   "source": [
    "# Ihr Code\n",
    "temp_mean = df_temp.loc[\"1951-01-01\":\"1981-01-01\", \"LandAverageTemperature\"].mean()\n",
    "temp_mean"
   ],
   "execution_count": 17,
   "outputs": [
    {
     "data": {
      "text/plain": [
       "8.657955555555555"
      ]
     },
     "metadata": {},
     "output_type": "display_data"
    }
   ],
   "metadata": {
    "datalore": {
     "sheet_delimiter": false
    },
    "pycharm": {
     "name": "#%%\n"
    }
   }
  },
  {
   "cell_type": "markdown",
   "source": [
    "<span style=\"color:green;font-weight:bold\">\n",
    "Die mittlere globale Landtemperatur in dem Zeitraum von 1951 bis 1980 beträgt ca. 8.65796 [° Celsus]\n",
    "</span>"
   ],
   "attachments": {},
   "metadata": {
    "datalore": {
     "sheet_delimiter": false
    },
    "pycharm": {
     "name": "#%% md\n"
    }
   }
  },
  {
   "cell_type": "code",
   "source": [
    "# Ihr Code\n",
    "temp_anomaly = df_temp.loc[\"1951-01-01\":\"1981-01-01\", \"LandAverageTemperature\"].sub(temp_mean)\n",
    "#temp_anomaly = df_temp.loc[:, \"LandAverageTemperature\"].sub(temp_mean)\n",
    "#temp_anomaly = df_temp.loc[:, \"LandAverageTemperature\"] - temp_mean\n",
    "temp_anomaly.plot(xlabel=\"Jahr\", title=\"mittlere globale Temperaturanomalien\")"
   ],
   "execution_count": 109,
   "outputs": [
    {
     "data": {
      "text/plain": [
       "<AxesSubplot:title={'center':'mittlere globale Temperaturanomalien'}, xlabel='Jahr'>"
      ],
      "image/png": "[encoded data removed]"
     },
     "metadata": {
      "image/png": {}
     },
     "output_type": "display_data"
    }
   ],
   "metadata": {
    "datalore": {
     "sheet_delimiter": false
    },
    "pycharm": {
     "name": "#%%\n"
    }
   }
  },
  {
   "cell_type": "markdown",
   "source": [
    "(7) Geben Sie an, um wieviel Grad Celsius sich die Erde im Jahr 2015 gegenüber dem Referenzzeitraum von 1951 bis 1980 erwärmt hat. \n",
    "<span style=\"color:red;font-weight:bold\">\\[ /4\\] Punkte</span>"
   ],
   "attachments": {},
   "metadata": {
    "datalore": {
     "sheet_delimiter": false
    },
    "pycharm": {
     "name": "#%% md\n"
    }
   }
  },
  {
   "cell_type": "code",
   "source": [
    "# Ihr Code\n",
    "temp_2015_mean = df_temp.loc[\"2015-12-31\", \"LandAverageTemperature\"].mean()\n",
    "temp_difference = temp_2015_mean - temp_mean\n",
    "temp_difference"
   ],
   "execution_count": 28,
   "outputs": [
    {
     "data": {
      "text/plain": [
       "1.173044444444443"
      ]
     },
     "metadata": {},
     "output_type": "display_data"
    }
   ],
   "metadata": {
    "datalore": {
     "sheet_delimiter": false
    },
    "pycharm": {
     "name": "#%%\n"
    }
   }
  },
  {
   "cell_type": "markdown",
   "source": [
    "<span style=\"color:green;font-weight:bold\">\n",
    "Die Temperatur hat sich 2015 gegenüber dem Referenzzeitraum um ca. 1.173 [° Celsius] erwärmt\n",
    "</span>"
   ],
   "attachments": {},
   "metadata": {
    "datalore": {
     "sheet_delimiter": false
    },
    "pycharm": {
     "name": "#%% md\n"
    }
   }
  },
  {
   "cell_type": "markdown",
   "source": [
    "### Aufgabe: Kohlenstoffdioxid (Klimawandel Teil 2)\n",
    "\n",
    "#### <span style=\"color:red\">Erreichbare Punktzahl: 50</span>\n",
    "\n",
    "Kohlenstoffdioxid (CO2) ist ein farbloses Gas, das in der Erdatmosphäre enthalten ist. Es reflektiert thermische Strahlung (Infrarot) zur Erdoberfläche zurück, und erhöht damit deren Temperatur. Durch höhere Temperaturen kann die Atmosphäre mehr Wasserdampf aufnehmen, welcher ebenfalls thermische Strahlung reflektiert (und damit als natürliches Treibhausgas die Erdtemperatur erhöht). Die erhöhte Wasserdampfkonzentration kann auch zu größeren Niederschlagsmengen führen. \n",
    "\n",
    "Sie werden in dieser Aufgabe die CO2 Konzentration in der Erdatmosphäre untersuchen.\n",
    "\n",
    "**Ihre Daten**\n",
    "\n",
    "- CO2 Konzentrationen der letzten Jahrtausende. Die Daten wurden von der US-amerikanischen Nationale Ozean- und Atmosphärenbehörde (NOAA) aus verschiedenen Studien zusammengestellt. Historische CO2 Konzentrationen wurden aus Messungen von Eisbohrkernen rekonstruiert.\n",
    "\n",
    "**Ihre Aufgaben**\n",
    "\n",
    "(1) Führen Sie zunächst die unten stehende Code-Zelle aus, um den Datensatz und die Pandas-Bibliothek verfügbar zu machen."
   ],
   "attachments": {},
   "metadata": {
    "datalore": {
     "sheet_delimiter": false
    },
    "pycharm": {
     "name": "#%% md\n"
    }
   }
  },
  {
   "cell_type": "code",
   "source": [
    "import pandas as pd\n",
    "\n",
    "# Datensatz\n",
    "co2_data_source = 'http://lab.bialonski.de/data/ds/exam/co2-concentration-long-term.csv.zip'"
   ],
   "execution_count": 30,
   "outputs": [],
   "metadata": {
    "datalore": {
     "sheet_delimiter": false
    },
    "pycharm": {
     "name": "#%%\n"
    }
   }
  },
  {
   "cell_type": "markdown",
   "source": [
    "(2) Importieren Sie mithilfe der Variablen `co2_data_source` den Datensatz in einen Pandas DataFrame, den Sie `df_co2` nennen. Geben Sie das älteste und das neueste Meßdatum an. <span style=\"color:red;font-weight:bold\">\\[ /4\\] Punkte</span>\n",
    "\n",
    "- Importieren Sie die Daten in den DataFrame `df_co2`. (2 Punkte)\n",
    "\n",
    "- Geben Sie das älteste und das neueste Meßdatum an. (2 Punkte)\n",
    "\n",
    "Hinweis:\n",
    "\n",
    "- Erzeugen Sie beim Import **keinen *datetime* Typen**. Sie kämpfen sonst in späteren Teilaufgaben mit unnötigen Schwierigkeiten."
   ],
   "attachments": {},
   "metadata": {
    "datalore": {
     "sheet_delimiter": false
    },
    "pycharm": {
     "name": "#%% md\n"
    }
   }
  },
  {
   "cell_type": "code",
   "source": [
    "# Ihr Code\n",
    "df_co2 = pd.read_csv(co2_data_source)\n",
    "df_co2.set_index(\"Jahr\", inplace=True)\n",
    "print(df_co2.head(1))\n",
    "print(df_co2.tail(1))"
   ],
   "execution_count": 56,
   "outputs": [
    {
     "name": "stdout",
     "text": [
      "         CO2 Konzentration (ppm)\n",
      "Jahr                            \n",
      "-803719                   207.29\n",
      "      CO2 Konzentration (ppm)\n",
      "Jahr                         \n",
      "2018                   408.52\n"
     ],
     "output_type": "stream"
    }
   ],
   "metadata": {
    "datalore": {
     "sheet_delimiter": false
    },
    "pycharm": {
     "name": "#%%\n"
    }
   }
  },
  {
   "cell_type": "markdown",
   "source": [
    "<span style=\"color:green;font-weight:bold\">\n",
    "1. Ältestes Datum: -803719 [v.C.] <br/>\n",
    "2. Jüngstes Datum: 2018 [n. C.]\n",
    "</span>"
   ],
   "attachments": {},
   "metadata": {
    "datalore": {
     "sheet_delimiter": false
    },
    "pycharm": {
     "name": "#%% md\n"
    }
   }
  },
  {
   "cell_type": "markdown",
   "source": [
    "(3) Visualisieren Sie die CO2 Konzentration als Funktion des Meßdatums für den Zeitraum von -10000 Jahre vor Christus bis in die Gegenwart. <span style=\"color:red;font-weight:bold\">\\[ /7\\] Punkte</span>\n",
    "\n",
    "- Die x-Achse ist mit \"Jahr\" beschriftet. (2 Punkte)\n",
    "- Die Legende der Abbildung lautet \"CO2 Konzentration (ppm)\". (2 Punkte)\n",
    "- Die x-Achse reicht von -10000 bis zu dem neuesten Meßdatum. (3 Punkte)  \n",
    "- Wenn Sie nicht Pandas zum Visualisieren nutzen: 5 Punkte Abzug."
   ],
   "attachments": {},
   "metadata": {
    "datalore": {
     "sheet_delimiter": false
    },
    "pycharm": {
     "name": "#%% md\n"
    }
   }
  },
  {
   "cell_type": "code",
   "source": [
    "# Ihr Code\n",
    "#df_test = df_co2.loc[\"-10000\":\"2018\", \"CO2 Konzentration (ppm)\"]\n",
    "#df_co2[df_co2.index >= -10000].plot(y='CO2 Konzentration (ppm)', xlabel='Jahr', legend='CO2 Konzentration (ppm)')\n",
    "df_co2.loc[-10000:2018]#.plot(xlabel=\"Jahr\", legend=True)"
   ],
   "execution_count": 115,
   "outputs": [
    {
     "data": {
      "text/html": [
       "<div>\n",
       "<style scoped>\n",
       "    .dataframe tbody tr th:only-of-type {\n",
       "        vertical-align: middle;\n",
       "    }\n",
       "\n",
       "    .dataframe tbody tr th {\n",
       "        vertical-align: top;\n",
       "    }\n",
       "\n",
       "    .dataframe thead th {\n",
       "        text-align: right;\n",
       "    }\n",
       "</style>\n",
       "<table border=\"1\" class=\"dataframe\">\n",
       "  <thead>\n",
       "    <tr style=\"text-align: right;\">\n",
       "      <th></th>\n",
       "      <th>CO2 Konzentration (ppm)</th>\n",
       "    </tr>\n",
       "    <tr>\n",
       "      <th>Jahr</th>\n",
       "      <th></th>\n",
       "    </tr>\n",
       "  </thead>\n",
       "  <tbody>\n",
       "    <tr>\n",
       "      <th>-9998</th>\n",
       "      <td>248.92</td>\n",
       "    </tr>\n",
       "    <tr>\n",
       "      <th>-9977</th>\n",
       "      <td>258.57</td>\n",
       "    </tr>\n",
       "    <tr>\n",
       "      <th>-9955</th>\n",
       "      <td>255.90</td>\n",
       "    </tr>\n",
       "    <tr>\n",
       "      <th>-9933</th>\n",
       "      <td>251.56</td>\n",
       "    </tr>\n",
       "    <tr>\n",
       "      <th>-9913</th>\n",
       "      <td>253.63</td>\n",
       "    </tr>\n",
       "    <tr>\n",
       "      <th>...</th>\n",
       "      <td>...</td>\n",
       "    </tr>\n",
       "    <tr>\n",
       "      <th>2014</th>\n",
       "      <td>398.65</td>\n",
       "    </tr>\n",
       "    <tr>\n",
       "      <th>2015</th>\n",
       "      <td>400.83</td>\n",
       "    </tr>\n",
       "    <tr>\n",
       "      <th>2016</th>\n",
       "      <td>404.24</td>\n",
       "    </tr>\n",
       "    <tr>\n",
       "      <th>2017</th>\n",
       "      <td>406.55</td>\n",
       "    </tr>\n",
       "    <tr>\n",
       "      <th>2018</th>\n",
       "      <td>408.52</td>\n",
       "    </tr>\n",
       "  </tbody>\n",
       "</table>\n",
       "<p>350 rows × 1 columns</p>\n",
       "</div>"
      ]
     },
     "metadata": {},
     "output_type": "display_data"
    }
   ],
   "metadata": {
    "datalore": {
     "sheet_delimiter": false
    },
    "pycharm": {
     "name": "#%%\n"
    }
   }
  },
  {
   "cell_type": "markdown",
   "source": [
    "(4) Welche CO2 Konzentrationen wurden Anfang des 20. Jahrhunderts und im Jahr 2018 gemessen. <span style=\"color:red;font-weight:bold\">\\[ /6\\] Punkte</span>\n",
    "\n",
    "- Ermitteln Sie die gemessene CO2 Konzentration Anfang des 20. Jahrhunderts und geben Sie sie an (Jahreszahl und CO2 Konzentration). (4 Punkte)\n",
    "- Ermitteln Sie die gemessene CO2 Konzentration des Jahres 2018 und geben Sie sie an. (2 Punkte)"
   ],
   "attachments": {},
   "metadata": {
    "datalore": {
     "sheet_delimiter": false
    },
    "pycharm": {
     "name": "#%% md\n"
    }
   }
  },
  {
   "cell_type": "code",
   "source": [
    "# Ihr Code\n",
    "print(df_co2.tail(1))\n",
    "print(df_co2.loc[\"1899\":\"1901\"])"
   ],
   "execution_count": 77,
   "outputs": [
    {
     "name": "stdout",
     "text": [
      "      CO2 Konzentration (ppm)\n",
      "Jahr                         \n",
      "2018                   408.52\n",
      "      CO2 Konzentration (ppm)\n",
      "Jahr                         \n",
      "1899                   296.16\n",
      "1900                   294.22\n"
     ],
     "output_type": "stream"
    }
   ],
   "metadata": {
    "datalore": {
     "sheet_delimiter": false
    },
    "pycharm": {
     "name": "#%%\n"
    }
   }
  },
  {
   "cell_type": "markdown",
   "source": [
    "<span style=\"color:green;font-weight:bold\">\n",
    "1. Anfang 20. Jahrhundert: (1900), (294.22)<br/>\n",
    "2. Jahr 2018: 408.52\n",
    "</span>"
   ],
   "attachments": {},
   "metadata": {
    "datalore": {
     "sheet_delimiter": false
    },
    "pycharm": {
     "name": "#%% md\n"
    }
   }
  },
  {
   "cell_type": "markdown",
   "source": [
    "(5) Bereiten Sie Ihre Daten vor, um den zeitlichen Verlauf der CO2 Konzentration und der globalen Temperatur miteinander zu vergleichen. <span style=\"color:red;font-weight:bold\">\\[ /14\\] Punkte</span>\n",
    "\n",
    "**Achtung: Diese Teilaufgabe ist nicht trivial und kostet Sie Zeit. Überspringen Sie diese Teilaufgabe zunächst und gehen Sie zum Checkpoint der Teilaufgabe (6). Bearbeiten Sie die Teilaufgabe (5) am besten zum Schluss.** \n",
    "\n",
    "Das Ergebnis dieser Teilaufgabe ist der DataFrame `df_tempco2`, der \n",
    "\n",
    "- die CO2 Konzentration als erste Spalte\n",
    "- die globale Landtemperatur als zweite Spalte \n",
    "- einen Index enthält, der die Mess**jahre** ab dem 18. Jahrhunder (>1700) widerspiegelt,\n",
    "- sowie keine NaN Werte enthält.\n",
    "\n",
    "Um die beiden Datensätze (CO2, Temperatur) zusammenzuführen, müssen beide Datensätze jeweils DateTime-Indices aufweisen, die miteinander kompatibel sind.\n",
    "\n",
    "**Tipps**\n",
    "\n",
    "- Importieren Sie die unten hinterlegten Temperaturdaten in einen DataFrame.\n",
    "- Schränken Sie zunächst die Messjahre beider Datensätze (CO2, Temperatur) auf die Zeit nach 1700 ein, bevor Sie die Datensätze zusammenführen.\n",
    "\n",
    "**Punktevergabe**\n",
    "\n",
    "- Einschränkung der CO2 Messdaten auf die Zeit nach 1700. (3 Punkt)\n",
    "- `df_tempco2` enthält CO2 (1. Spalte) und globale Landtemperatur (2. Spalte) mit korrektem Index. (9 Punkte)\n",
    "- Entfernen von Zeilen, die NaN enthalten (2 Punkt)"
   ],
   "attachments": {},
   "metadata": {
    "datalore": {
     "sheet_delimiter": false
    },
    "pycharm": {
     "name": "#%% md\n"
    }
   }
  },
  {
   "cell_type": "code",
   "source": [
    "import pandas as pd\n",
    "\n",
    "# Datensatz\n",
    "temperature_preproc_data_source = 'http://lab.bialonski.de/data/ds/exam/global_temperature_preprocessed.csv.zip'"
   ],
   "execution_count": 0,
   "outputs": [],
   "metadata": {
    "datalore": {
     "sheet_delimiter": false
    },
    "pycharm": {
     "name": "#%%\n"
    }
   }
  },
  {
   "cell_type": "code",
   "source": [
    "# Ihr Code"
   ],
   "execution_count": 0,
   "outputs": [],
   "metadata": {
    "datalore": {
     "sheet_delimiter": false
    },
    "pycharm": {
     "name": "#%%\n"
    }
   }
  },
  {
   "cell_type": "markdown",
   "source": [
    "<span style=\"color:blue;font-weight:bold\">Checkpoint: Führen Sie die folgende Code-Zeile aus, um mit korrekten Daten weiterzuarbeiten.</span>"
   ],
   "attachments": {},
   "metadata": {
    "datalore": {
     "sheet_delimiter": false
    },
    "pycharm": {
     "name": "#%% md\n"
    }
   }
  },
  {
   "cell_type": "code",
   "source": [
    "df_tempco2_source = 'http://lab.bialonski.de/data/ds/exam/co2-temperature-processed.csv.zip'\n",
    "\n",
    "#df_tempco2 = # importiere Sie hier die unter \"df_tempco2_source\" hinterlegten Daten.\n",
    "df_tempco2 = pd.read_csv(df_tempco2_source)\n",
    "df_tempco2"
   ],
   "execution_count": 131,
   "outputs": [
    {
     "data": {
      "text/html": [
       "<div>\n",
       "<style scoped>\n",
       "    .dataframe tbody tr th:only-of-type {\n",
       "        vertical-align: middle;\n",
       "    }\n",
       "\n",
       "    .dataframe tbody tr th {\n",
       "        vertical-align: top;\n",
       "    }\n",
       "\n",
       "    .dataframe thead th {\n",
       "        text-align: right;\n",
       "    }\n",
       "</style>\n",
       "<table border=\"1\" class=\"dataframe\">\n",
       "  <thead>\n",
       "    <tr style=\"text-align: right;\">\n",
       "      <th></th>\n",
       "      <th>Jahr</th>\n",
       "      <th>CO2 Konzentration</th>\n",
       "      <th>Temperatur</th>\n",
       "    </tr>\n",
       "  </thead>\n",
       "  <tbody>\n",
       "    <tr>\n",
       "      <th>0</th>\n",
       "      <td>1752</td>\n",
       "      <td>277.23</td>\n",
       "      <td>5.779833</td>\n",
       "    </tr>\n",
       "    <tr>\n",
       "      <th>1</th>\n",
       "      <td>1763</td>\n",
       "      <td>277.16</td>\n",
       "      <td>7.496750</td>\n",
       "    </tr>\n",
       "    <tr>\n",
       "      <th>2</th>\n",
       "      <td>1764</td>\n",
       "      <td>276.40</td>\n",
       "      <td>8.400333</td>\n",
       "    </tr>\n",
       "    <tr>\n",
       "      <th>3</th>\n",
       "      <td>1773</td>\n",
       "      <td>277.86</td>\n",
       "      <td>8.221500</td>\n",
       "    </tr>\n",
       "    <tr>\n",
       "      <th>4</th>\n",
       "      <td>1779</td>\n",
       "      <td>280.24</td>\n",
       "      <td>8.983250</td>\n",
       "    </tr>\n",
       "    <tr>\n",
       "      <th>...</th>\n",
       "      <td>...</td>\n",
       "      <td>...</td>\n",
       "      <td>...</td>\n",
       "    </tr>\n",
       "    <tr>\n",
       "      <th>141</th>\n",
       "      <td>2011</td>\n",
       "      <td>391.65</td>\n",
       "      <td>9.516000</td>\n",
       "    </tr>\n",
       "    <tr>\n",
       "      <th>142</th>\n",
       "      <td>2012</td>\n",
       "      <td>393.85</td>\n",
       "      <td>9.507333</td>\n",
       "    </tr>\n",
       "    <tr>\n",
       "      <th>143</th>\n",
       "      <td>2013</td>\n",
       "      <td>396.52</td>\n",
       "      <td>9.606500</td>\n",
       "    </tr>\n",
       "    <tr>\n",
       "      <th>144</th>\n",
       "      <td>2014</td>\n",
       "      <td>398.65</td>\n",
       "      <td>9.570667</td>\n",
       "    </tr>\n",
       "    <tr>\n",
       "      <th>145</th>\n",
       "      <td>2015</td>\n",
       "      <td>400.83</td>\n",
       "      <td>9.831000</td>\n",
       "    </tr>\n",
       "  </tbody>\n",
       "</table>\n",
       "<p>146 rows × 3 columns</p>\n",
       "</div>"
      ]
     },
     "metadata": {},
     "output_type": "display_data"
    }
   ],
   "metadata": {
    "datalore": {
     "sheet_delimiter": false
    },
    "pycharm": {
     "name": "#%%\n"
    }
   }
  },
  {
   "cell_type": "markdown",
   "source": [
    "(6) Nutzen Sie den DataFrame `df_tempco2` und erstellen Sie einen Scatter-Plot, der die Temperatur (y-Achse) gegen die CO2 Konzentration (x-Achse) darstellt. <span style=\"color:red;font-weight:bold\">\\[ /8\\] Punkte</span>\n",
    "\n",
    "- Die x-Achse ist mit \"CO2 Konzentration\" beschriftet. (2 Punkt)\n",
    "- Die y-Achse ist mit \"Temperatur\" beschriftet. (2 Punkt)\n",
    "- Der Scatterplot zeigt die Temperatur gegen die CO2 Konzentration. (4 Punkte)"
   ],
   "attachments": {},
   "metadata": {
    "datalore": {
     "sheet_delimiter": false
    },
    "pycharm": {
     "name": "#%% md\n"
    }
   }
  },
  {
   "cell_type": "code",
   "source": [
    "# Ihr Code\n",
    "df_tempco2.plot(kind=\"scatter\",x=\"CO2 Konzentration\", y=\"Temperatur\", xlabel=\"C02 Konzentration\", ylabel=\"Temperatur\")"
   ],
   "execution_count": 133,
   "outputs": [
    {
     "data": {
      "text/plain": [
       "<AxesSubplot:xlabel='C02 Konzentration', ylabel='Temperatur'>"
      ],
      "image/png": "[encoded data removed]"
     },
     "metadata": {
      "image/png": {}
     },
     "output_type": "display_data"
    }
   ],
   "metadata": {
    "datalore": {
     "sheet_delimiter": false
    },
    "pycharm": {
     "name": "#%%\n"
    }
   }
  },
  {
   "cell_type": "markdown",
   "source": [
    "(7) Bestimmen Sie die Stärke des monotonen Zusammenhangs zwischen Temperatur und CO2 Konzentration. Geben Sie die Stärke dieses Zusammenhangs als Zahl an. <span style=\"color:red;font-weight:bold\">\\[ /6\\] Punkte</span>\n",
    "\n",
    "- Berechnung mit korrektem Zusammenhangsmaß (4 Punkte)\n",
    "- Angabe der Zahl, die die Stärke des monotonen Zusamenhangs charakterisiert (2 Punkte)"
   ],
   "attachments": {},
   "metadata": {
    "datalore": {
     "sheet_delimiter": false
    },
    "pycharm": {
     "name": "#%% md\n"
    }
   }
  },
  {
   "cell_type": "code",
   "source": [
    "# Ihr Code\n",
    "# Spearman:\n",
    "import numpy as np\n",
    "\n",
    "def pearson(x, y):\n",
    "    x_mean = np.mean(x)\n",
    "    y_mean = np.mean(y)\n",
    "    numerator = np.sum((x - x_mean) * (y - y_mean))\n",
    "    denominator = np.sqrt(np.sum((x - x_mean) ** 2) * np.sum((y - y_mean) ** 2))\n",
    "    return numerator / denominator\n",
    "\n",
    "def spearman(x, y):\n",
    "    return pearson(pd.Series(x).rank(), pd.Series(y).rank())\n",
    "\n",
    "print(spearman(df_tempco2[\"LandAverageTemperature\"], df_tempco2[\"dt\"]))\n"
   ],
   "execution_count": 88,
   "outputs": [
    {
     "name": "stdout",
     "text": [
      "0.6143974521846274\n"
     ],
     "output_type": "stream"
    }
   ],
   "metadata": {
    "datalore": {
     "sheet_delimiter": false
    },
    "pycharm": {
     "name": "#%%\n"
    }
   }
  },
  {
   "cell_type": "markdown",
   "source": [
    "<span style=\"color:green;font-weight:bold\">\n",
    "Der Spearman-Korrelationskoeffizient beträgt ca. 0.6144\n",
    "Dies entspricht einer mittleren Korrelation (0.5 <= 0.6144 <= 0.8 )\n",
    "</span>"
   ],
   "attachments": {},
   "metadata": {
    "datalore": {
     "sheet_delimiter": false
    },
    "pycharm": {
     "name": "#%% md\n"
    }
   }
  },
  {
   "cell_type": "markdown",
   "source": [
    "(8) Interpretieren Sie Ihr Ergebnis aus Teilaufgabe (7) unter den Aspekten \"Klimawandel\" und \"Korrelation versus Kausalität\". (2-4 Sätze) <span style=\"color:red;font-weight:bold\">\\[ /5\\] Punkte</span>"
   ],
   "attachments": {},
   "metadata": {
    "datalore": {
     "sheet_delimiter": false
    },
    "pycharm": {
     "name": "#%% md\n"
    }
   }
  },
  {
   "cell_type": "markdown",
   "source": [
    "<span style=\"color:green;font-weight:bold\">\n",
    "Der Spearman-korrelationskoeffizient weist auf eine mittlere Korrelation hin was bedeutet, dass die Daten mit hoher Wahrscheinlichkeit in einem Zusammenhang zueinander stehen. Das ist in der Hinsicht erstaunlich da bis zum Industriezeitalter keine Korrelation zwischen Co2-Emissionen und Jahreszahl bestehen sollte => folglich ist der letzte kleine Anteil von ca. 150 Jahren für die gesamte Korrelation dafür verantwortlich und somit zeigt sich dass der Klimawandel existiert\n",
    "</span>"
   ],
   "attachments": {},
   "metadata": {
    "datalore": {
     "sheet_delimiter": false
    },
    "pycharm": {
     "name": "#%% md\n"
    }
   }
  },
  {
   "cell_type": "markdown",
   "source": [
    "### Aufgabe: E-Scooter\n",
    "\n",
    "#### <span style=\"color:red\">Erreichbare Punktzahl: 15</span>\n",
    "\n",
    "Sie arbeiten für einen E-Scooter Verleiher, der im Stadtgebiet eine große Flotte von E-Scootern zum Verleih anbietet. Ein von Ihnen erstelltes schwellwert-basiertes Modell, welches Daten von Messsensoren der einzelnen Fahrzeuge der Flotte auswertet, sagt regelmäßig für jeden E-Scooter voraus, ob die Batterie ausgetauscht werden muss (**positive Klasse: Austausch**) oder nicht (**negative Klasse: Kein-Austausch**).\n",
    "\n",
    "Mehrere Mitarbeiter überprüfen die Richtigkeit der Vorhersagen Ihres Modells. Dies sind die Ergebnisse:\n",
    "\n",
    "<img src=\"http://lab.bialonski.de/data/ds/exam/e-scooter-data.png\" alt=\"E-Scooter-Daten\" style=\"width: 80%;\"/>\n",
    "\n",
    "\n",
    "**Ihre Aufgaben**\n",
    "\n",
    "(1) Bestimmen Sie die Genauigkeit (Accuracy) Ihres schwellwert-basierten Modells an und geben Sie sie an.  <span style=\"color:red;font-weight:bold\">\\[ /3\\] Punkte</span>"
   ],
   "attachments": {},
   "metadata": {
    "datalore": {
     "sheet_delimiter": false
    },
    "pycharm": {
     "name": "#%% md\n"
    }
   }
  },
  {
   "cell_type": "markdown",
   "source": [
    "<span style=\"color:green;font-weight:bold\">\n",
    "Genauigkeit bei keinem Austausch:   1305 / 1542 => 84.6%\n",
    "Genauigkeit bei Austausch:          326 / 746 => 43.7%\n",
    "</span>"
   ],
   "attachments": {},
   "metadata": {
    "datalore": {
     "sheet_delimiter": false
    },
    "pycharm": {
     "name": "#%% md\n"
    }
   }
  },
  {
   "cell_type": "markdown",
   "source": [
    "(2) Bestimmen Sie die Qualitätsmaße *Precision* und den *Recall* Ihres Modells und geben Sie sie an. <span style=\"color:red;font-weight:bold\">\\[ /6\\] Punkte</span>\n",
    "\n",
    "- Angabe der Precision (3 Punkte)\n",
    "- Angabe des Recalls (3 Punkte)"
   ],
   "attachments": {},
   "metadata": {
    "datalore": {
     "sheet_delimiter": false
    },
    "pycharm": {
     "name": "#%% md\n"
    }
   }
  },
  {
   "cell_type": "markdown",
   "source": [
    "<span style=\"color:green;font-weight:bold\">\n",
    "Precision   = richtig positiv / alle positiv deklarierten => 326 / 746 => 43.7%\n",
    "Recalls     = richtig positiv / alle positiv              => 326 / 563 => 57.9%\n",
    "</span>"
   ],
   "attachments": {},
   "metadata": {
    "datalore": {
     "sheet_delimiter": false
    },
    "pycharm": {
     "name": "#%% md\n"
    }
   }
  },
  {
   "cell_type": "markdown",
   "source": [
    "(3) Ihr Abteilungsleiter teilt Ihnen mit, dass das Aussenden der Mitarbeiter zum Batterieaustausch ein wichtiger Kostenfaktor ist. Die Mitarbeiter sollen nicht zu Scootern geschickt werden, die keinen Batterieaustausch benötigen.  <span style=\"color:red;font-weight:bold\">\\[ /6\\] Punkte</span>\n",
    "\n",
    "- Welches Qualitätsmaß (aus Teilaufgabe (2)) müssen Sie vergrößern, um der Anforderung Ihres Abteilungsleiters gerecht zu werden? (1 Wort) (3 Punkte)\n",
    "- Begründen Sie Ihre Entscheidung. (1-3 Sätze) (3 Punkte)"
   ],
   "attachments": {},
   "metadata": {
    "datalore": {
     "sheet_delimiter": false
    },
    "pycharm": {
     "name": "#%% md\n"
    }
   }
  },
  {
   "cell_type": "markdown",
   "source": [
    "<span style=\"color:green;font-weight:bold\">\n",
    "1. Precision<br/>\n",
    "2. Da die Precision die anzahl der richtig-positive durch die anzahl aller positiven ist, würde bei einer Precision von 1 jede Vorhersage dass eine Batterie ausgetauscht werden müsste auch stimmen\n",
    "</span>"
   ],
   "attachments": {},
   "metadata": {
    "datalore": {
     "sheet_delimiter": false
    },
    "pycharm": {
     "name": "#%% md\n"
    }
   }
  },
  {
   "cell_type": "markdown",
   "source": [
    "### Bonus-Aufgabe: Vulkanismus (Klimawandel Teil 3)\n",
    "\n",
    "#### <span style=\"color:red\">Erreichbare Punktzahl: 10</span>\n",
    "\n",
    "- Sie benötigen diese Aufgabe nicht, um eine volle Punktzahl in dieser Klausur zu erzielen.\n",
    "- Bearbeiten Sie diese Aufgabe erst, nachdem Sie alle anderen Aufgaben bearbeitet haben, da Sie hier mehr Zeit benötigen werden.\n",
    "\n",
    "Verschiedene Faktoren können die weltweit steigenden Temperaturen beeinflussen. In dieser Aufgabe modellieren Sie mithilfe einer linearen Regression den weltweiten Temperaturverlauf seit dem 18. Jahrhundert. Wir folgen der Publikation von [Rohde et al (Geoinfor. Gestat. 2013)](http://static.berkeleyearth.org/papers/Results-Paper-Berkeley-Earth.pdf). Demnach bestimmen die\n",
    "\n",
    "- CO2 Konzentration $C$\n",
    "- und die Sulfat-Konzentration $S$, die wesentlich durch Vulkanausbrüche bestimmt wird,\n",
    "\n",
    "die weltweit gemessene Temperatur $T$ in folgender Weise:\n",
    "\n",
    "$$ T^\\prime(t) = a \\cdot \\ln{C}(t) + b \\cdot S(t),$$\n",
    "\n",
    "wobei $\\ln$ den natürlichen Logarithmus, $T^\\prime$ die durch das Modell vorhergesagte Landtemperatur, $t$ den Messzeitpunkt, und $a$ und $b$ zwei Koeffizienten der linearen Regression bezeichnen.\n",
    "\n",
    "**Ihre Daten**\n",
    "\n",
    "- CO2 Konzentrationen (aus Aufgabe \"Kohlenstoffdioxid\")\n",
    "- weltweite Landtemperaturen (aus Aufgabe \"Temperatur\")\n",
    "- Sulfatkonzentration (diese Daten importieren Sie in dieser Aufgabe)\n",
    "\n",
    "**Ihre Aufgabe**\n",
    "\n",
    "(1) Visualisieren Sie die weltweite Landtemperatur als Funktion der Zeit. Visualisieren Sie in derselben Abbildung die Vorhersage der weltweiten Landtemperatur über Ihr lineares Regressionsmodell. <span style=\"color:red;font-weight:bold\">\\[ /10\\] Punkte</span>\n",
    "\n",
    "- Visualisierung der weltweiten Landtemperatur $T$ sowie der vorhergesagten Landtemperatur $T^\\prime$. (10 Punkte)\n",
    "\n",
    "Hinweise:\n",
    "\n",
    "- Sie finden unten die Quelle (`vulcanic_data_source`) für die gemessenen atmosphärischen Sulfatkonzentrationen."
   ],
   "attachments": {},
   "metadata": {
    "datalore": {
     "sheet_delimiter": false
    },
    "pycharm": {
     "name": "#%% md\n"
    }
   }
  },
  {
   "cell_type": "code",
   "source": [
    "vulcanic_data_source = 'http://lab.bialonski.de/data/ds/exam/volcanic_extrapolated.csv.zip'"
   ],
   "execution_count": 0,
   "outputs": [],
   "metadata": {
    "datalore": {
     "sheet_delimiter": false
    },
    "pycharm": {
     "name": "#%%\n"
    }
   }
  },
  {
   "cell_type": "code",
   "source": [
    "# Ihr Code"
   ],
   "execution_count": 0,
   "outputs": [],
   "metadata": {
    "datalore": {
     "sheet_delimiter": false
    },
    "pycharm": {
     "name": "#%%\n"
    }
   }
  }
 ],
 "metadata": {},
 "nbformat": 4,
 "nbformat_minor": 0
}