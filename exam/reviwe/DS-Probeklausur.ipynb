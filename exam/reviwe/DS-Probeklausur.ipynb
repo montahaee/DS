{
 "cells": [
  {
   "cell_type": "markdown",
   "metadata": {},
   "source": [
    "# Klausur \"Einführung in Data Science\"\n",
    "### FH Aachen - University of Applied Sciences\n",
    "\n",
    "Professor Dr. Stephan Bialonski"
   ]
  },
  {
   "cell_type": "markdown",
   "metadata": {},
   "source": [
    "## Name und Matrikelnummer\n",
    "\n",
    "- Ihr Vor- und Nachname: (bitte ausfüllen)\n",
    "- Ihre Matrikelnummer: (bitte ausfüllen)"
   ]
  },
  {
   "cell_type": "markdown",
   "metadata": {},
   "source": [
    "Beachten Sie: Die Weitergabe dieser Probeklausur an Dritte ist untersagt."
   ]
  },
  {
   "cell_type": "markdown",
   "metadata": {},
   "source": [
    "## Klausurbearbeitung. Dies müssen Sie tun:\n",
    "\n"
   ]
  },
  {
   "cell_type": "markdown",
   "metadata": {},
   "source": [
    "1. **Namen und Matrikelnummer eintragen.** Tragen Sie oben Ihren Namen sowie Ihre Matrikelnummer ein, indem Sie die Platzhalter \"(bitte ausfüllen)\" mit Ihren Angaben ersetzen.\n",
    "\n",
    "2. **Erklärung zur Online Prüfung ausfüllen.** In der echten Klausur müssen Sie eine ausgefüllte Erklärung zur Online Prüfung bereithalten und zusammen mit Ihrer Klausur nach der Bearbeitung einreichen. Sie bearbeiten hier eine Probeklausur und müssen daher das Formular **nicht einreichen**. Es ist sinnvoll, dieses Formular schon vor Prüfungsbeginn ausgefüllt zu haben und bereit zu stellen. Hier finden Sie das [Formular](https://data.bialonski.de/ds/Erklaerung_Online_Pruefung.pdf) \"Erklärung zur Online Prüfung\" zum Download.\n",
    "\n",
    "3. **Notebook umbenennen.** Benennen Sie dieses Jupyter Notebook nach folgendem Schema um: `Nachname-Vorname-Matrikelnummer`, wobei Sie für die Platzhalter entsprechend Ihren Namen und Ihre Matrikelnummer eintragen. Sie können das Notebook umbenennen, indem Sie auf `File>Rename` klicken und dann den neuen Namen des Jupyter Notebooks eintragen, oder indem Sie oben auf den alten Namen dieses Notebooks klicken und dort den neuen Namen eintragen. Speichern Sie Ihr Notebook nach der Umbenennung (Shortkey `Strg+s` oder auf das Speichern-Symbol (Diskette) oben klicken).\n",
    "\n",
    "4. **Bei Discord online gehen.** Sie müssen während der gesamten Klausurbearbeitung bei Discord erreichbar und ansprechbar sein und Ihren Bildschirm, auf Auffordern, teilen können. Daneben können Sie im \"Klausur-Kanal\" bei Discord die Tutoren oder den Dozenten zu sich rufen, um im Zweiergespräch Fragen zu klären. Schreiben Sie dazu bei Discord: \"@Tutor Bitte bei mir vorbeischauen.\".\n",
    "\n",
    "5. **Klausur bearbeiten.** *Die Bearbeitungszeit beträgt 75 Minuten.* Achten Sie auf die Bearbeitungszeit und stellen Sie sich ggf. einen Countdown-Timer oder Wecker. **Planen Sie für die Klausurabgabe 5 Minuten Zeit ein. Die Klausurabgabe beginnt nach Ende der Bearbeitungszeit.** Sie finden direkt unter diesem Satz eine Anleitung (\"Klausurabgabe. Das müssen Sie tun.\"), wie Sie Ihre Klausur abgeben werden."
   ]
  },
  {
   "cell_type": "markdown",
   "metadata": {},
   "source": [
    "## Klausurabgabe. Dies müssen Sie tun:"
   ]
  },
  {
   "cell_type": "markdown",
   "metadata": {},
   "source": [
    "1. **Bearbeitungen abspeichern.** Das Wichtigste zuerst: Speichern Sie Ihre Bearbeitungen (Shortkey `Strg+s` oder auf das Speichern-Symbol (Diskette) klicken).\n",
    "\n",
    "2. **Jupyter Notebook Datei abspeichern.** Speichern Sie Ihre Jupyter Notebook als Datei (im Folgenden \"Klausur\" genannt) lokal auf Ihrem Rechner ab. (`File > Download as > Notebook (.ipynb)`).\n",
    "\n",
    "3. **Sie haben eine Probeklausur bearbeitet. Daher geben Sie Ihre Klausur jetzt nicht ab.** Die Probeklausur wird im Verlauf der Veranstaltung innerhalb Ihrer Teams besprochen. Jedes Team erstellt eine finale Klausurversion, die sie mitsamt der erarbeiteten Übungen wie üblich als Übungsabgabe einreicht. In der echten Klausur würden Sie Ihre Klausur direkt bei ILIAS einreichen - zusammen mit Ihrem ausgefüllten Formular \"Erklärungen zur Online Prüfung.\"\n",
    "\n"
   ]
  },
  {
   "cell_type": "markdown",
   "metadata": {},
   "source": [
    "## Klausuraufgaben"
   ]
  },
  {
   "cell_type": "markdown",
   "metadata": {},
   "source": [
    "### Hinweise\n",
    "\n",
    "(1) **Überblick verschaffen.** Wieviele Punkte können Sie bei welchen Aufgaben erzielen?\n",
    "\n",
    "(2) **Fragen während der Klausur?** Sprechen Sie bei Discord die Tutoren bzw. den Dozenten an. Wir kommen zu Ihnen und klären Ihre Fragen im Zweiergespräch bei Discord.\n",
    "\n",
    "(3) **Sie müssen die Klausur persönlich und ohne fremde Hilfe bearbeiten.**\n",
    "\n",
    "(4) **Dies ist eine Remote-Kofferklausur**. Sie dürfen erlaubte Hilfsmittel nutzen.\n",
    "\n",
    "(5) Führen Sie die unten stehende Codezelle aus, um die Größe der von Ihnen zu erstellenden Abbildungen zu konfigurieren."
   ]
  },
  {
   "cell_type": "code",
   "execution_count": null,
   "metadata": {},
   "outputs": [],
   "source": [
    "import matplotlib.pyplot as plt\n",
    "%matplotlib inline\n",
    "plt.rcParams[\"figure.figsize\"] = [10, 7]"
   ]
  },
  {
   "cell_type": "markdown",
   "metadata": {},
   "source": [
    "### Aufgabe: Corona-Pandemie\n",
    "\n",
    "#### <span style=\"color:red\">Erreichbare Punktzahl: 40</span>\n",
    "\n",
    "Im Frühjahr 2020 begann sich das neuartiges Coronavirus SARS-CoV-2, welches die Lungenerkrankung Covid-19 verursachen kann, in Deutschland und Europa schlagartig zu verbreiten. In dieser Aufgabe analysieren und visualisieren Sie das Infektionsgeschehen in Deutschland.\n",
    "\n",
    "**Ihre Daten**\n",
    "\n",
    "Ein vereinfachter Datensatz des Robert Koch Instituts (RKI) steht Ihnen in dieser Aufgabe zur Verfügung.\n",
    "\n",
    "**Ihre Aufgaben**\n",
    "\n",
    "(1) Führen Sie zunächst die unten stehende Code-Zelle aus, um den Datensatz und die Pandas-Bibliothek verfügbar zu machen."
   ]
  },
  {
   "cell_type": "code",
   "execution_count": null,
   "metadata": {},
   "outputs": [],
   "source": [
    "import pandas as pd\n",
    "\n",
    "# Daten des Robert Koch Instituts\n",
    "RKI_data_simplified = 'https://data.bialonski.de/ds/kUdBuPrXjvr5d64OEy3UN82VKz646KLj2tuZFTFZ.csv'"
   ]
  },
  {
   "cell_type": "markdown",
   "metadata": {},
   "source": [
    "(2) Importieren Sie mithilfe von Pandas den Datensatz in einen DataFrame, den Sie `df_covid` nennen. Nutzen Sie dazu die Variable `RKI_data_simplified`.<span style=\"color:red;font-weight:bold\">\\[ /2\\] Punkte</span>"
   ]
  },
  {
   "cell_type": "code",
   "execution_count": null,
   "metadata": {},
   "outputs": [],
   "source": [
    "# Ihr Code"
   ]
  },
  {
   "cell_type": "markdown",
   "metadata": {},
   "source": [
    "(3) Der DataFrame, den Sie erhalten haben, enthält die Anzahl neu infizierter Personen für `Deutschland` sowie aufgelistet nach Bundesland, die zu einem Zeitpunkt (`Meldedatum`) gemeldet wurden. <span style=\"color:red;font-weight:bold\">\\[ /4\\] Punkte</span>\n",
    "\n",
    "* Wandeln Sie die Spalte `Meldedatum` in einen *datetime* Typen um. Sie können die Pandas Funktion `to_datetime` dafür nutzen. (2 Punkte)\n",
    "\n",
    "* Machen Sie anschließend `Meldedatum` zum Index Ihres DataFrames. Sie können die Pandas Funktion `set_index` dafür nutzen. (2 Punkte)"
   ]
  },
  {
   "cell_type": "code",
   "execution_count": null,
   "metadata": {},
   "outputs": [],
   "source": [
    "# Ihr Code"
   ]
  },
  {
   "cell_type": "markdown",
   "metadata": {},
   "source": [
    "(4) Visualisieren Sie die Anzahl neu infizierter Personen für Deutschland (Spalte: Deutschland) als Funktion des Meldedatums. Ihre Abbildung muss folgende Eigenschaften erfüllen:  <span style=\"color:red;font-weight:bold\">\\[ /6\\] Punkte</span>\n",
    "\n",
    "- Die x-Achse ist mit \"Meldedatum\" beschriftet. (2 Punkte)\n",
    "- Auf der x-Achse stehen Datumsangaben (z.B: '2020-03-17'), keine bloßen Integers. (2 Punkte)  \n",
    "- Der Titel der Abbildung lautet \"Anzahl Neuinfektionen\". (2 Punkte)"
   ]
  },
  {
   "cell_type": "code",
   "execution_count": null,
   "metadata": {},
   "outputs": [],
   "source": [
    "# Ihr Code"
   ]
  },
  {
   "cell_type": "markdown",
   "metadata": {},
   "source": [
    "(5) Am 2. April 2020 begann im Jahr 2020 die *Einführung in Data Science* Vorlesung in Aachen. *Bestimmen Sie* die Anzahl gemeldeter Neuinfizierter an diesem Tag und *nennen Sie diese Anzahl*. <span style=\"color:red;font-weight:bold\">\\[ /4\\] Punkte</span>\n"
   ]
  },
  {
   "cell_type": "code",
   "execution_count": null,
   "metadata": {},
   "outputs": [],
   "source": [
    "# Ihr Code"
   ]
  },
  {
   "cell_type": "markdown",
   "metadata": {},
   "source": [
    "<span style=\"color:green;font-weight:bold\">\n",
    "(Ihre Antwort)\n",
    "</span>"
   ]
  },
  {
   "cell_type": "markdown",
   "metadata": {},
   "source": [
    "(6) Die Anzahl gemeldeter Neuinfizierter in Ihrer Visualisierung aus Schritt (4) zeigt periodische Schwingungen. Wie erklären Sie das Auftreten dieser Schwingungen? (Stichpunkte oder 1-3 Sätze) <span style=\"color:red;font-weight:bold\">\\[ /6\\] Punkte</span>"
   ]
  },
  {
   "cell_type": "markdown",
   "metadata": {},
   "source": [
    "<span style=\"color:green;font-weight:bold\">\n",
    "(Ihre Antwort)\n",
    "</span>"
   ]
  },
  {
   "cell_type": "markdown",
   "metadata": {},
   "source": [
    "(7) Die Anzahl Neuinfizierter steigt kurzzeitig im Juni 2020 etwas an und flacht dann wieder ab. Untersuchen Sie, auf welches Bundesland sich dieser Anstieg zurückführen lässt: <span style=\"color:red;font-weight:bold\">\\[ /8\\] Punkte</span>\n",
    "\n",
    "1. Visualisieren Sie die Anzahl gemeldeter Neuinfizierter als Funktion des Meldedatums *für alle Bundesländer* in derselben Abbildung. Ihre Abbildung erfüllt die folgenden Eigenschaften:\n",
    "   - Die x-Achse ist mit \"Meldedatum\" beschriftet. (1 Punkt)\n",
    "   - Auf der x-Achse stehen Datumsangaben (z.B: '2020-03-17'), keine bloßen Integers. (1 Punkt)  \n",
    "   - Der Titel der Abbildung lautet \"Anzahl Neuinfizierter nach Bundesländern\". (1 Punkt)\n",
    "   - Eine Legende erlaubt eine farbkodierte Unterscheidung der dargestellten Graphen nach Bundesländern. (1 Punkt) \n",
    "   - Ihre Abbildung enthält **nicht** die Gesamtzahl aller Infizierter Deutschlands."
   ]
  },
  {
   "cell_type": "code",
   "execution_count": null,
   "metadata": {},
   "outputs": [],
   "source": [
    "# Ihr Code"
   ]
  },
  {
   "cell_type": "markdown",
   "metadata": {},
   "source": [
    "2. Identifizieren Sie über Ihre Abbildung das Bundesland, auf das sich der kurzzeitige Anstieg der Neuinfizierten im Juni 2020 zurückführen lässt, und nennen Sie dieses Bundesland. (2 Punkte)\n",
    "\n",
    "   - Bonus: Benennen Sie die Ursache dieser erhöhten Infektionszahlen. (+2 Punkte)"
   ]
  },
  {
   "cell_type": "markdown",
   "metadata": {},
   "source": [
    "<span style=\"color:green;font-weight:bold\">\n",
    "(Ihre Antwort)\n",
    "</span>"
   ]
  },
  {
   "cell_type": "markdown",
   "metadata": {},
   "source": [
    "3. In welchem Bundesland Deutschlands wurden als erstes Corona-Infizierte gemeldet? (2 Punkte)"
   ]
  },
  {
   "cell_type": "code",
   "execution_count": null,
   "metadata": {},
   "outputs": [],
   "source": [
    "# Ihr Code"
   ]
  },
  {
   "cell_type": "markdown",
   "metadata": {},
   "source": [
    "<span style=\"color:green;font-weight:bold\">\n",
    "(Ihre Antwort)\n",
    "</span>"
   ]
  },
  {
   "cell_type": "markdown",
   "metadata": {},
   "source": [
    "(8) Visualisieren Sie die kumulative Summe der Neuinfizierten in Deutschland (Spalte: Deutschland) als Funktion des Meldedatums. <span style=\"color:red;font-weight:bold\">\\[ /4\\] Punkte</span>\n",
    "\n",
    "- Die x-Achse ist mit \"Meldedatum\" beschriftet. (1 Punkte)\n",
    "- Auf der x-Achse stehen Datumsangaben (z.B: '2020-03-17'), keine bloßen Integers. (1 Punkte)  \n",
    "- Der Titel der Abbildung lautet \"kumulative Summe Infizierter\". (1 Punkte)"
   ]
  },
  {
   "cell_type": "code",
   "execution_count": null,
   "metadata": {},
   "outputs": [],
   "source": [
    "# Ihr Code"
   ]
  },
  {
   "cell_type": "markdown",
   "metadata": {},
   "source": [
    "(9) Bestimmen Sie die Zahl aller Menschen, die in Deutschland bis zum 5. Juli 2020 als mit Covid-19 infiziert gemeldet wurden. <span style=\"color:red;font-weight:bold\">\\[ /6\\] Punkte</span>"
   ]
  },
  {
   "cell_type": "code",
   "execution_count": null,
   "metadata": {},
   "outputs": [],
   "source": [
    "# Ihr Code"
   ]
  },
  {
   "cell_type": "markdown",
   "metadata": {},
   "source": [
    "<span style=\"color:green;font-weight:bold\">\n",
    "(Ihre Antwort)\n",
    "</span>"
   ]
  },
  {
   "cell_type": "markdown",
   "metadata": {},
   "source": [
    "(10) *Bonus:* (Bearbeiten Sie diese Teilaufgabe am besten erst, wenn Sie bereits die anderen Aufgaben dieser Klausur bearbeitet haben.)\n",
    "\n",
    "Visualisieren Sie die geschätzte Anzahl der akut erkrankten Coronapatienten als Funktion des Meldedatums. <span style=\"color:red;font-weight:bold\">\\[ /8\\] Punkte</span>\n",
    "\n",
    "Für die Schätzung der akut erkrankten Patienten (5 Punkte) nehmen wir Folgendes an:\n",
    "\n",
    "- Wir nehmen an, dass die Infektion 18 Tage nach dem Meldedatum vorbei ist und der Patient gesund geworden ist.\n",
    "- Wir nehmen an, dass keine Menschen durch eine Corona-Infektion versterben.\n",
    "\n",
    "Ihre Visualisierung erfüllt die folgenden Eigenschaften:\n",
    "- Die x-Achse ist mit \"Meldedatum\" beschriftet. (1 Punkt)\n",
    "- Auf der x-Achse stehen Datumsangaben (z.B: '2020-03-17'), keine bloßen Integers. (1 Punkt)  \n",
    "- Der Titel der Abbildung lautet \"Anzahl der akut erkrankten Corona-Patienten\". (1 Punkt)"
   ]
  },
  {
   "cell_type": "code",
   "execution_count": null,
   "metadata": {},
   "outputs": [],
   "source": [
    "# Ihr Code"
   ]
  },
  {
   "cell_type": "markdown",
   "metadata": {},
   "source": [
    "### Aufgabe: Reproduktionszahl\n",
    "\n",
    "#### <span style=\"color:red\">Erreichbare Punktzahl: 28</span>\n",
    "\n",
    "Sie bestimmen in dieser Aufgabe die Reproduktionszahl $R$ für die Covid-19 Pandemie in Deutschland anhand der Daten des Robert-Koch-Instituts. Die Reproduktionszahl $R$ gibt an, wie viele Menschen von einer infektiösen Person durchschnittlich angesteckt werden, wenn kein Mitglied der Population gegenüber dem Erreger immun ist.\n",
    "\n",
    "Sie werden eine vereinfachte Schätzung der $R$-Zahl durchführen. Die $R$-Zahl eines Tages $t$ sei definiert als\n",
    "\n",
    "$$ R(t) := \\frac{\\sum_{x = t-3}^t I_x }{\\sum_{x = t-7}^{t-4} I_x},$$\n",
    "\n",
    "wobei $I_x$ die Anzahl der Neuinfizierten eines Tages $x$ bezeichnet.\n",
    "\n",
    "Die $R$-Zahl entspricht also der Summe der Infizierten innerhalb eines 4-Tageszeitraums dividiert durch die Summe der Infizierten des davorliegenden 4-Tageszeitraums.\n",
    "\n",
    "**Ihre Daten**\n",
    "\n",
    "Ein vereinfachter Datensatz des Robert Koch Instituts (RKI) steht Ihnen in dieser Aufgabe zur Verfügung.\n",
    "\n",
    "**Ihre Aufgaben**\n",
    "\n",
    "(1) Führen Sie zunächst die unten stehende Code-Zelle aus, um den Datensatz und die Pandas-Bibliothek verfügbar zu machen."
   ]
  },
  {
   "cell_type": "code",
   "execution_count": null,
   "metadata": {},
   "outputs": [],
   "source": [
    "import pandas as pd\n",
    "\n",
    "# Daten des Robert Koch Instituts\n",
    "RKI_data_simplified = 'https://data.bialonski.de/ds/kUdBuPrXjvr5d64OEy3UN82VKz646KLj2tuZFTFZ.csv'"
   ]
  },
  {
   "cell_type": "markdown",
   "metadata": {},
   "source": [
    "(2) Importieren Sie mithilfe der Variablen `RKI_data_simplified` den Datensatz in einen Pandas DataFrame, den Sie `df_covid` nennen. <span style=\"color:red;font-weight:bold\">\\[ /4\\] Punkte</span>\n",
    "\n",
    "- Wandeln Sie die Spalte `Meldedatum` in einen *datetime* Typen um. Sie können die Pandas Funktion `to_datetime` dafür nutzen. (2 Punkte)\n",
    "\n",
    "- Machen Sie anschließend `Meldedatum` zum Index Ihres DataFrames. Sie können die Pandas Funktion `set_index` dafür nutzen. (2 Punkte)"
   ]
  },
  {
   "cell_type": "code",
   "execution_count": null,
   "metadata": {},
   "outputs": [],
   "source": [
    "# Ihr Code"
   ]
  },
  {
   "cell_type": "markdown",
   "metadata": {},
   "source": [
    "(3) Bestimmen Sie nun die $R(t)$-Zahl für Deutschland (Spalte: Deutschland) aus den Daten, die Sie im vorherigen Schritt verfügbar gemacht haben.  <span style=\"color:red;font-weight:bold\">\\[ /12\\] Punkte</span>\n",
    "\n",
    "Gehen Sie dabei am besten in zwei Schritten vor:\n",
    "\n",
    "1. Bestimmen Sie die rollierenden 4-Tagessummen der Infiziertenzahlen. Sie erhalten dadurch einen neuen DataFrame, der eine Zeitreihe enthält, deren Einträge jeweils einer Summe über die Anzahl der Infizierten über 4 aufeinanderfolgende Tage darstellt. Nutzen Sie für diesen Schritt am besten die Funktionalität von Pandas. (6 Punkte)\n",
    "\n",
    "   - **Wichtig**: Die Summen in der Definition von $R(t)$ (siehe obige Gleichung) verlaufen jeweils über 4 direkt aufeinanderfolgenden Tagen.\n",
    "\n",
    "\n",
    "2. Bestimmen Sie $R(t)$ gemäß der Definition zu Beginn dieser Aufgabe. Nutzen Sie aus, dass Sie die Zeitreihe (der rollierenden 4-Tagessummen) um 4 Tage mithilfe von Pandas verschieben können. (6 Punkte)\n"
   ]
  },
  {
   "cell_type": "code",
   "execution_count": null,
   "metadata": {},
   "outputs": [],
   "source": [
    "# Ihr Code"
   ]
  },
  {
   "cell_type": "markdown",
   "metadata": {},
   "source": [
    "(4) Visualisieren Sie die $R(t)$-Zahl als Funktion des Meldedatums $t$. <span style=\"color:red;font-weight:bold\">\\[ /4\\] Punkte</span>\n",
    "\n",
    "- Sie haben $R(t)$ als Funktion des Meldedatums in einer Abbildung visualisiert. (1 Punkt)\n",
    "- Die x-Achse ist mit \"Meldedatum\" beschriftet. (1 Punkt)\n",
    "- Auf der x-Achse stehen Datumsangaben (z.B: '2020-03-17' oder 'Apr 2020'), keine bloßen Integers. (1 Punkt)  \n",
    "- Der Titel der Abbildung lautet \"Reproduktionszahl R\". (1 Punkt)"
   ]
  },
  {
   "cell_type": "code",
   "execution_count": null,
   "metadata": {},
   "outputs": [],
   "source": [
    "# Ihr Code"
   ]
  },
  {
   "cell_type": "markdown",
   "metadata": {},
   "source": [
    "(5) An welchen Tagen im Juni 2020 können Sie Reproduktionszahlen beobachten, die größer sind als 2? <span style=\"color:red;font-weight:bold\">\\[ /8\\] Punkte</span>\n",
    "\n",
    "- Angabe der Tage im Juni 2020, deren Reproduktionszahlen größer sind als 2. (6 Punkte)\n",
    "- Welcher Ausbruch steht mit den erhöhten Reproduktionszahlen im Juni im Zusammenhang stehen? (1-2 Sätze oder Stichworte) (2 Punkte)"
   ]
  },
  {
   "cell_type": "code",
   "execution_count": null,
   "metadata": {},
   "outputs": [],
   "source": [
    "# Ihr Code"
   ]
  },
  {
   "cell_type": "markdown",
   "metadata": {},
   "source": [
    "<span style=\"color:green;font-weight:bold\">\n",
    "(Ihre Antwort)\n",
    "</span>"
   ]
  },
  {
   "cell_type": "markdown",
   "metadata": {},
   "source": [
    "### Aufgabe: Corona-Warn-App Analyse\n",
    "\n",
    "#### <span style=\"color:red\">Erreichbare Punktzahl: 20</span>\n",
    "\n",
    "Die Corona-Warn-App wurde im Juni 2020 in Deutschland veröffentlicht, um die Kontaktnachverfolgung infizierter Personen zu erleichtern. Die App wurde bis Anfang Juli 2020 bereits über 14 Millionen Mal heruntergeladen.\n",
    "\n",
    "Über die App-Infrastruktur werden jeden Tag Menschen vor potentiellen Infektionen gewarnt. Aus den dabei benötigten täglichen Daten lassen sich die Anzahl der Menschen ermitteln, die pro Tag über die Warn-App als infiziert gemeldet wurden. \n",
    "\n",
    "Sie werden in dieser Aufgabe untersuchen, wieviel Prozent aller neuinfizierten Fälle (laut Robert-Koch-Institut) bereits über die Corona-Warn-App gemeldet werden.\n",
    "\n",
    "**Ihre Daten**\n",
    "\n",
    "- Ein vereinfachter Datensatz des Robert Koch Instituts (RKI) steht Ihnen in dieser Aufgabe zur Verfügung.\n",
    "\n",
    "- Corona-Warn-App Datensatz, der die Schätzung der Anzahl der als infiziert gemeldeten Menschen enthält\n",
    "\n",
    "**Ihre Aufgaben**\n",
    "\n",
    "(1) Führen Sie zunächst die unten stehende Code-Zelle aus, um die Datensätze und die Pandas-Bibliothek verfügbar zu machen."
   ]
  },
  {
   "cell_type": "code",
   "execution_count": null,
   "metadata": {},
   "outputs": [],
   "source": [
    "import pandas as pd\n",
    "\n",
    "# Daten des Robert Koch Instituts\n",
    "RKI_data_simplified = 'https://data.bialonski.de/ds/kUdBuPrXjvr5d64OEy3UN82VKz646KLj2tuZFTFZ.csv'\n",
    "\n",
    "# Daten der Corona Warn App Infrastruktur\n",
    "cwa_data = 'https://data.bialonski.de/ds/kWgDRT4Q6W3TfK4u1AAjnJtzP67GebwP3l3cLpEF.csv'"
   ]
  },
  {
   "cell_type": "markdown",
   "metadata": {},
   "source": [
    "(2) Importieren Sie mithilfe der Variablen `RKI_data_simplified` und `cwa_data` die Datensätze in Pandas DataFrames, die Sie `df_covid` bzw. `df_cwa` nennen. Für beide DataFrames machen Sie Folgendes:  <span style=\"color:red;font-weight:bold\">\\[ /4\\] Punkte</span>\n",
    "\n",
    "- Wandeln Sie die Spalte `Meldedatum` in einen *datetime* Typen um. Sie können die Pandas Funktion `to_datetime` dafür nutzen. (2 Punkte)\n",
    "\n",
    "- Machen Sie anschließend `Meldedatum` zum Index Ihres jeweiligen DataFrames. Sie können die Pandas Funktion `set_index` dafür nutzen. (2 Punkte)"
   ]
  },
  {
   "cell_type": "code",
   "execution_count": null,
   "metadata": {},
   "outputs": [],
   "source": [
    "# Ihr Code"
   ]
  },
  {
   "cell_type": "markdown",
   "metadata": {},
   "source": [
    "(3) Bestimmen Sie tagesgenau den prozentualen Anteil der Neuinfizierten, die durch die Corona-Warn-App gemeldet wurden, an der gesamten Anzahl der Neuinfizierten (Spalte \"Deutschland\"), die durch das Robert-Koch-Institut gemeldet wurden. <span style=\"color:red;font-weight:bold\">\\[ /6\\] Punkte</span>"
   ]
  },
  {
   "cell_type": "code",
   "execution_count": null,
   "metadata": {},
   "outputs": [],
   "source": [
    "# Ihr Code"
   ]
  },
  {
   "cell_type": "markdown",
   "metadata": {},
   "source": [
    "(4) Visualisieren Sie in einem Bar-Plot den prozentualen Anteil, den Sie in Schritt (3) ermittelt haben, als Funktion des Meldedatums. <span style=\"color:red;font-weight:bold\">\\[ /5\\] Punkte</span>\n",
    "\n",
    "- Die x-Achse ist mit \"Meldedatum\" beschriftet. (1 Punkte)\n",
    "- Auf der x-Achse stehen Datumsangaben (z.B: '2020-03-17' oder 'Apr 2020'), keine bloßen Integers. (2 Punkte)  \n",
    "- Der Titel der Abbildung lautet \"prozentualer Anteil gemeldeter Fälle\". (1 Punkte)"
   ]
  },
  {
   "cell_type": "code",
   "execution_count": null,
   "metadata": {},
   "outputs": [],
   "source": [
    "# Ihr Code"
   ]
  },
  {
   "cell_type": "markdown",
   "metadata": {},
   "source": [
    "(5) Wieviel Prozent aller Neuinfizierten vom 2. Juli wurden durch die Corona-Warn-App gemeldet? Ermitteln Sie diese Prozentzahl und nennen Sie sie. <span style=\"color:red;font-weight:bold\">\\[ /5\\] Punkte</span>"
   ]
  },
  {
   "cell_type": "code",
   "execution_count": null,
   "metadata": {},
   "outputs": [],
   "source": [
    "# Ihr Code"
   ]
  },
  {
   "cell_type": "markdown",
   "metadata": {},
   "source": [
    "<span style=\"color:green;font-weight:bold\">\n",
    "(Ihre Antwort)\n",
    "</span>"
   ]
  },
  {
   "cell_type": "markdown",
   "metadata": {},
   "source": [
    "### Aufgabe: Werbeindustrie\n",
    "\n",
    "#### <span style=\"color:red\">Erreichbare Punktzahl: 12</span>\n",
    "\n",
    "Der folgende Datenfall ist echt und wurde für die Klausurstellung anonymisiert:\n",
    "\n",
    "Ein Data Scientist einer Firma, die im Bereich Onlinewerbung tätig ist, fragt um Rat. Die Firma möchte anhand von Beobachtungen verschiedene Personengruppen identifizieren. Es liegen Daten von $N=700000$ Personen mit je $D=100000$ Merkmalen (Features) vor.\n",
    "\n",
    "Der Data Scientist hat eine explorative Datenanalyse (EDA) wie folgt vorgenommen:\n",
    "\n",
    "1. Die Dimension des Feature-Raums wurde mithilfe einer PCA (Principal Component Analysis) von 100000 auf $D^\\prime = 3500$ Dimensionen reduziert.\n",
    "\n",
    "2. Um eine Intuition über die in diesem dimensionsreduzierten Feature-Raum etwaig vorhandenen Cluster zu erhalten, wurden mit einem nichtlinearen Verfahren des Multidimensionalen Skalierens (MDS) die Daten in zwei Dimensionen dargestellt. Folgende Abbildung ergab sich:\n",
    "\n",
    "<img src=\"https://data.bialonski.de/ds/8zktDhGjvm5UFu5ltnPSQAaifDcXLFwkR0kiTCjW.png\" alt=\"Feature-Space\" style=\"width: 500px;\"/>\n",
    "\n",
    "Arbeiten Sie unter folgenden Annahmen:\n",
    "\n",
    "- Das MDS-Verfahren funktioniert wahrheitsgetreu.\n",
    "- Die PCA wurde korrekt implementiert.\n",
    "\n",
    "**Ihre Aufgaben**\n",
    "\n",
    "(1) Untersuchen Sie die oben dargestellte Analysekette des Data Scientist: Welche Aspekte müssen Sie hinterfragen bzw. kritisieren? Notieren Sie stichwortartig Ihre Fragen bzw. Kritikpunkte. (Bei zwei Kritikpunkten bzw. Fragen sind Sie schon gut unterwegs). <span style=\"color:red;font-weight:bold\">\\[ /6\\] Punkte</span>\n",
    "\n"
   ]
  },
  {
   "cell_type": "markdown",
   "metadata": {},
   "source": [
    "<span style=\"color:green;font-weight:bold\">\n",
    "\n",
    "- (Ihre Antwort)\n",
    "\n",
    "- (Ihre Antwort)\n",
    "    \n",
    "- ...\n",
    "</span>"
   ]
  },
  {
   "cell_type": "markdown",
   "metadata": {},
   "source": [
    "(2) Der Data Scientist hat die in der obigen Abbildung erkennbaren Clusterstrukturen untersucht. Der rot eingekreiste Bereich markiert einen Cluster, der tatsächlich einer Personengruppe entspricht, wie er herausgefunden hat. Solche Cluster möchte er über ein geeignetes Clusterverfahren aus dem Feature-Raum extrahieren. <span style=\"color:red;font-weight:bold\">\\[ /6\\] Punkte</span>\n",
    "\n",
    "* Nennen Sie genau ein Clusterverfahren aus der Vorlesung *Data Science*, welches Sie ihm vorschlagen. (4 Punkte)\n"
   ]
  },
  {
   "cell_type": "markdown",
   "metadata": {},
   "source": [
    "<span style=\"color:green;font-weight:bold\">\n",
    "(Ihre Antwort)\n",
    "</span>"
   ]
  },
  {
   "cell_type": "markdown",
   "metadata": {},
   "source": [
    "* Begründen Sie Ihre Entscheidung für das von Ihnen vorgeschlagene Clusterverfahren und grenzen Sie es zu alternativen Verfahren ab. (1-5 Sätze) (2 Punkte)"
   ]
  },
  {
   "cell_type": "markdown",
   "metadata": {},
   "source": [
    "<span style=\"color:green;font-weight:bold\">\n",
    "(Ihre Antwort)\n",
    "</span>"
   ]
  }
 ],
 "metadata": {
  "hide_input": false,
  "kernelspec": {
   "display_name": "Python 3",
   "language": "python",
   "name": "python3"
  },
  "language_info": {
   "codemirror_mode": {
    "name": "ipython",
    "version": 3
   },
   "file_extension": ".py",
   "mimetype": "text/x-python",
   "name": "python",
   "nbconvert_exporter": "python",
   "pygments_lexer": "ipython3",
   "version": "3.9.1"
  },
  "learntools_metadata": {
   "lesson_index": 0,
   "type": "exercise"
  }
 },
 "nbformat": 4,
 "nbformat_minor": 1
}